{
  "nbformat": 4,
  "nbformat_minor": 0,
  "metadata": {
    "colab": {
      "provenance": []
    },
    "kernelspec": {
      "name": "python3",
      "display_name": "Python 3"
    },
    "accelerator": "GPU"
  },
  "cells": [
    {
      "cell_type": "markdown",
      "metadata": {
        "id": "09Vxn7338rLp"
      },
      "source": [
        "#Intent Classification using LSTM\n",
        "This use-case provides a demo of how LSTM can be used for Intent classification in texts.\n",
        "\n",
        "##Workflow:\n",
        "\n",
        "1.   Understanding the problem\n",
        "2.   Reading the data and understanding it\n",
        "3.   Data Preprocessing\n",
        "4.   Build LSTM model\n",
        "5.   Train & Evaluate the model"
      ]
    },
    {
      "cell_type": "markdown",
      "metadata": {
        "id": "CYTbGtop9jP1"
      },
      "source": [
        "##1. Understanding the problem\n",
        "Intent Classification is the automated association of text to a specific intention. For example: Let's say you are writing an email to one of the Airlines and the text of the same is 'Can you please cancel my ticket with PNR 123456'. The intent of the customer here is 'Cancellation of Air Ticket'.\n",
        "\n",
        "The idea of this use case to introduce the concept of Intent classification and how can LSTM be used to solve this."
      ]
    },
    {
      "cell_type": "markdown",
      "metadata": {
        "id": "jEN-kTBx_4sC"
      },
      "source": [
        "###Import the necessary libraries\n",
        "Please load the following packages before you proceed further.\n"
      ]
    },
    {
      "cell_type": "code",
      "metadata": {
        "id": "8k38KZeu8uUS",
        "outputId": "5ec81fab-ed5a-46f7-d17f-d0ecb348d36b",
        "colab": {
          "base_uri": "https://localhost:8080/"
        }
      },
      "source": [
        "import numpy as np\n",
        "import pandas as pd\n",
        "import nltk\n",
        "\n",
        "from sklearn.preprocessing import OneHotEncoder as oneHot\n",
        "from nltk.corpus import stopwords\n",
        "from nltk import word_tokenize\n",
        "from string import punctuation\n",
        "from nltk.stem import PorterStemmer\n",
        "from tensorflow.keras.preprocessing.text import Tokenizer\n",
        "from tensorflow.keras.preprocessing.sequence import pad_sequences\n",
        "from tensorflow.keras.layers import Dense, LSTM\n",
        "from tensorflow.keras.layers import BatchNormalization, Dropout, Input\n",
        "from tensorflow.keras.optimizers import Adam\n",
        "from tensorflow.keras.losses import CategoricalCrossentropy as cce\n",
        "from tensorflow.keras.activations import relu, softmax\n",
        "from tensorflow.keras.initializers import he_uniform, glorot_uniform\n",
        "from tensorflow.keras.metrics import AUC\n",
        "from tensorflow.keras import Model\n",
        "from tensorflow.keras.regularizers import l2\n",
        "from sklearn.metrics import classification_report\n",
        "\n",
        "nltk.download('punkt')\n",
        "nltk.download('stopwords')"
      ],
      "execution_count": null,
      "outputs": [
        {
          "output_type": "stream",
          "name": "stderr",
          "text": [
            "[nltk_data] Downloading package punkt to /root/nltk_data...\n",
            "[nltk_data]   Unzipping tokenizers/punkt.zip.\n",
            "[nltk_data] Downloading package stopwords to /root/nltk_data...\n",
            "[nltk_data]   Unzipping corpora/stopwords.zip.\n"
          ]
        },
        {
          "output_type": "execute_result",
          "data": {
            "text/plain": [
              "True"
            ]
          },
          "metadata": {},
          "execution_count": 1
        }
      ]
    },
    {
      "cell_type": "code",
      "metadata": {
        "id": "GXCF5zWiwcYH"
      },
      "source": [
        "#Read the train and test datasets with column names as target and text\n",
        "train= pd.read_csv('/content/bank_train - bank_train.csv',\n",
        "                       names= [\"target\", \"text\"])\n",
        "\n",
        "test= pd.read_csv('/content/bank_test.csv',\n",
        "                       names= [\"target\", \"text\"])"
      ],
      "execution_count": null,
      "outputs": []
    },
    {
      "cell_type": "code",
      "source": [
        "train.shape"
      ],
      "metadata": {
        "colab": {
          "base_uri": "https://localhost:8080/"
        },
        "id": "aiM61bmsFcdU",
        "outputId": "17606e0a-7a9c-46b1-8fca-e69446d8d640"
      },
      "execution_count": null,
      "outputs": [
        {
          "output_type": "execute_result",
          "data": {
            "text/plain": [
              "(79, 2)"
            ]
          },
          "metadata": {},
          "execution_count": 11
        }
      ]
    },
    {
      "cell_type": "code",
      "source": [
        "test.shape"
      ],
      "metadata": {
        "colab": {
          "base_uri": "https://localhost:8080/"
        },
        "id": "SPS4DjH1FhSa",
        "outputId": "7b46061f-1bef-450f-ffa2-d81c54cf86a8"
      },
      "execution_count": null,
      "outputs": [
        {
          "output_type": "execute_result",
          "data": {
            "text/plain": [
              "(21, 2)"
            ]
          },
          "metadata": {},
          "execution_count": 12
        }
      ]
    },
    {
      "cell_type": "markdown",
      "metadata": {
        "id": "ZcA1sbFmrc2c"
      },
      "source": [
        "####This is how the data looks like"
      ]
    },
    {
      "cell_type": "code",
      "metadata": {
        "id": "jcBN6Hn2rhjD",
        "outputId": "675335a7-e28b-45c5-e3b5-c9e223a4c487",
        "colab": {
          "base_uri": "https://localhost:8080/",
          "height": 363
        }
      },
      "source": [
        "train.head(10) #Get Top 10 rows from train dataset"
      ],
      "execution_count": null,
      "outputs": [
        {
          "output_type": "execute_result",
          "data": {
            "text/plain": [
              "   target                                               text\n",
              "0       0  I APPLIED FOR A CREDIT CARD LAST MONTH BUT I D...\n",
              "1       1  I OPENED A NEW ACCOUNT IN YOUR BANK BUT WHEN I...\n",
              "2       0  I APPLIED FOR DEBIT OR CREDIT CARD WHEN I OPEN...\n",
              "3       0  TILL NOW I DID NOT GET ANY DEBIT OR CREDIT CAR...\n",
              "4       1  I GAVE AN APPLICATION FOR LINKING UNIQUE NUMBE...\n",
              "5       1  I WANT TO CHANGE THE MOBILE NUMBER THAT WAS PR...\n",
              "6       0  I LOST MY DEBIT OR CREDIT CARD YESTERDAY . SO ...\n",
              "7       0  PLEASE BLOCK MY DEBIT OR CREDIT CARD BECAUSE I...\n",
              "8       1  I GAVE AN APPLICATION FOR LINKING MY MOBILE NU...\n",
              "9       1  I GAVE AN APPLICATION FOR LINKING MY MOBILE NU..."
            ],
            "text/html": [
              "\n",
              "  <div id=\"df-8939fd51-c923-4aa5-b15d-a96911747f0b\" class=\"colab-df-container\">\n",
              "    <div>\n",
              "<style scoped>\n",
              "    .dataframe tbody tr th:only-of-type {\n",
              "        vertical-align: middle;\n",
              "    }\n",
              "\n",
              "    .dataframe tbody tr th {\n",
              "        vertical-align: top;\n",
              "    }\n",
              "\n",
              "    .dataframe thead th {\n",
              "        text-align: right;\n",
              "    }\n",
              "</style>\n",
              "<table border=\"1\" class=\"dataframe\">\n",
              "  <thead>\n",
              "    <tr style=\"text-align: right;\">\n",
              "      <th></th>\n",
              "      <th>target</th>\n",
              "      <th>text</th>\n",
              "    </tr>\n",
              "  </thead>\n",
              "  <tbody>\n",
              "    <tr>\n",
              "      <th>0</th>\n",
              "      <td>0</td>\n",
              "      <td>I APPLIED FOR A CREDIT CARD LAST MONTH BUT I D...</td>\n",
              "    </tr>\n",
              "    <tr>\n",
              "      <th>1</th>\n",
              "      <td>1</td>\n",
              "      <td>I OPENED A NEW ACCOUNT IN YOUR BANK BUT WHEN I...</td>\n",
              "    </tr>\n",
              "    <tr>\n",
              "      <th>2</th>\n",
              "      <td>0</td>\n",
              "      <td>I APPLIED FOR DEBIT OR CREDIT CARD WHEN I OPEN...</td>\n",
              "    </tr>\n",
              "    <tr>\n",
              "      <th>3</th>\n",
              "      <td>0</td>\n",
              "      <td>TILL NOW I DID NOT GET ANY DEBIT OR CREDIT CAR...</td>\n",
              "    </tr>\n",
              "    <tr>\n",
              "      <th>4</th>\n",
              "      <td>1</td>\n",
              "      <td>I GAVE AN APPLICATION FOR LINKING UNIQUE NUMBE...</td>\n",
              "    </tr>\n",
              "    <tr>\n",
              "      <th>5</th>\n",
              "      <td>1</td>\n",
              "      <td>I WANT TO CHANGE THE MOBILE NUMBER THAT WAS PR...</td>\n",
              "    </tr>\n",
              "    <tr>\n",
              "      <th>6</th>\n",
              "      <td>0</td>\n",
              "      <td>I LOST MY DEBIT OR CREDIT CARD YESTERDAY . SO ...</td>\n",
              "    </tr>\n",
              "    <tr>\n",
              "      <th>7</th>\n",
              "      <td>0</td>\n",
              "      <td>PLEASE BLOCK MY DEBIT OR CREDIT CARD BECAUSE I...</td>\n",
              "    </tr>\n",
              "    <tr>\n",
              "      <th>8</th>\n",
              "      <td>1</td>\n",
              "      <td>I GAVE AN APPLICATION FOR LINKING MY MOBILE NU...</td>\n",
              "    </tr>\n",
              "    <tr>\n",
              "      <th>9</th>\n",
              "      <td>1</td>\n",
              "      <td>I GAVE AN APPLICATION FOR LINKING MY MOBILE NU...</td>\n",
              "    </tr>\n",
              "  </tbody>\n",
              "</table>\n",
              "</div>\n",
              "    <div class=\"colab-df-buttons\">\n",
              "\n",
              "  <div class=\"colab-df-container\">\n",
              "    <button class=\"colab-df-convert\" onclick=\"convertToInteractive('df-8939fd51-c923-4aa5-b15d-a96911747f0b')\"\n",
              "            title=\"Convert this dataframe to an interactive table.\"\n",
              "            style=\"display:none;\">\n",
              "\n",
              "  <svg xmlns=\"http://www.w3.org/2000/svg\" height=\"24px\" viewBox=\"0 -960 960 960\">\n",
              "    <path d=\"M120-120v-720h720v720H120Zm60-500h600v-160H180v160Zm220 220h160v-160H400v160Zm0 220h160v-160H400v160ZM180-400h160v-160H180v160Zm440 0h160v-160H620v160ZM180-180h160v-160H180v160Zm440 0h160v-160H620v160Z\"/>\n",
              "  </svg>\n",
              "    </button>\n",
              "\n",
              "  <style>\n",
              "    .colab-df-container {\n",
              "      display:flex;\n",
              "      gap: 12px;\n",
              "    }\n",
              "\n",
              "    .colab-df-convert {\n",
              "      background-color: #E8F0FE;\n",
              "      border: none;\n",
              "      border-radius: 50%;\n",
              "      cursor: pointer;\n",
              "      display: none;\n",
              "      fill: #1967D2;\n",
              "      height: 32px;\n",
              "      padding: 0 0 0 0;\n",
              "      width: 32px;\n",
              "    }\n",
              "\n",
              "    .colab-df-convert:hover {\n",
              "      background-color: #E2EBFA;\n",
              "      box-shadow: 0px 1px 2px rgba(60, 64, 67, 0.3), 0px 1px 3px 1px rgba(60, 64, 67, 0.15);\n",
              "      fill: #174EA6;\n",
              "    }\n",
              "\n",
              "    .colab-df-buttons div {\n",
              "      margin-bottom: 4px;\n",
              "    }\n",
              "\n",
              "    [theme=dark] .colab-df-convert {\n",
              "      background-color: #3B4455;\n",
              "      fill: #D2E3FC;\n",
              "    }\n",
              "\n",
              "    [theme=dark] .colab-df-convert:hover {\n",
              "      background-color: #434B5C;\n",
              "      box-shadow: 0px 1px 3px 1px rgba(0, 0, 0, 0.15);\n",
              "      filter: drop-shadow(0px 1px 2px rgba(0, 0, 0, 0.3));\n",
              "      fill: #FFFFFF;\n",
              "    }\n",
              "  </style>\n",
              "\n",
              "    <script>\n",
              "      const buttonEl =\n",
              "        document.querySelector('#df-8939fd51-c923-4aa5-b15d-a96911747f0b button.colab-df-convert');\n",
              "      buttonEl.style.display =\n",
              "        google.colab.kernel.accessAllowed ? 'block' : 'none';\n",
              "\n",
              "      async function convertToInteractive(key) {\n",
              "        const element = document.querySelector('#df-8939fd51-c923-4aa5-b15d-a96911747f0b');\n",
              "        const dataTable =\n",
              "          await google.colab.kernel.invokeFunction('convertToInteractive',\n",
              "                                                    [key], {});\n",
              "        if (!dataTable) return;\n",
              "\n",
              "        const docLinkHtml = 'Like what you see? Visit the ' +\n",
              "          '<a target=\"_blank\" href=https://colab.research.google.com/notebooks/data_table.ipynb>data table notebook</a>'\n",
              "          + ' to learn more about interactive tables.';\n",
              "        element.innerHTML = '';\n",
              "        dataTable['output_type'] = 'display_data';\n",
              "        await google.colab.output.renderOutput(dataTable, element);\n",
              "        const docLink = document.createElement('div');\n",
              "        docLink.innerHTML = docLinkHtml;\n",
              "        element.appendChild(docLink);\n",
              "      }\n",
              "    </script>\n",
              "  </div>\n",
              "\n",
              "\n",
              "<div id=\"df-9a9e7d10-69c3-4cfa-a96f-7749ac0e0b0e\">\n",
              "  <button class=\"colab-df-quickchart\" onclick=\"quickchart('df-9a9e7d10-69c3-4cfa-a96f-7749ac0e0b0e')\"\n",
              "            title=\"Suggest charts\"\n",
              "            style=\"display:none;\">\n",
              "\n",
              "<svg xmlns=\"http://www.w3.org/2000/svg\" height=\"24px\"viewBox=\"0 0 24 24\"\n",
              "     width=\"24px\">\n",
              "    <g>\n",
              "        <path d=\"M19 3H5c-1.1 0-2 .9-2 2v14c0 1.1.9 2 2 2h14c1.1 0 2-.9 2-2V5c0-1.1-.9-2-2-2zM9 17H7v-7h2v7zm4 0h-2V7h2v10zm4 0h-2v-4h2v4z\"/>\n",
              "    </g>\n",
              "</svg>\n",
              "  </button>\n",
              "\n",
              "<style>\n",
              "  .colab-df-quickchart {\n",
              "      --bg-color: #E8F0FE;\n",
              "      --fill-color: #1967D2;\n",
              "      --hover-bg-color: #E2EBFA;\n",
              "      --hover-fill-color: #174EA6;\n",
              "      --disabled-fill-color: #AAA;\n",
              "      --disabled-bg-color: #DDD;\n",
              "  }\n",
              "\n",
              "  [theme=dark] .colab-df-quickchart {\n",
              "      --bg-color: #3B4455;\n",
              "      --fill-color: #D2E3FC;\n",
              "      --hover-bg-color: #434B5C;\n",
              "      --hover-fill-color: #FFFFFF;\n",
              "      --disabled-bg-color: #3B4455;\n",
              "      --disabled-fill-color: #666;\n",
              "  }\n",
              "\n",
              "  .colab-df-quickchart {\n",
              "    background-color: var(--bg-color);\n",
              "    border: none;\n",
              "    border-radius: 50%;\n",
              "    cursor: pointer;\n",
              "    display: none;\n",
              "    fill: var(--fill-color);\n",
              "    height: 32px;\n",
              "    padding: 0;\n",
              "    width: 32px;\n",
              "  }\n",
              "\n",
              "  .colab-df-quickchart:hover {\n",
              "    background-color: var(--hover-bg-color);\n",
              "    box-shadow: 0 1px 2px rgba(60, 64, 67, 0.3), 0 1px 3px 1px rgba(60, 64, 67, 0.15);\n",
              "    fill: var(--button-hover-fill-color);\n",
              "  }\n",
              "\n",
              "  .colab-df-quickchart-complete:disabled,\n",
              "  .colab-df-quickchart-complete:disabled:hover {\n",
              "    background-color: var(--disabled-bg-color);\n",
              "    fill: var(--disabled-fill-color);\n",
              "    box-shadow: none;\n",
              "  }\n",
              "\n",
              "  .colab-df-spinner {\n",
              "    border: 2px solid var(--fill-color);\n",
              "    border-color: transparent;\n",
              "    border-bottom-color: var(--fill-color);\n",
              "    animation:\n",
              "      spin 1s steps(1) infinite;\n",
              "  }\n",
              "\n",
              "  @keyframes spin {\n",
              "    0% {\n",
              "      border-color: transparent;\n",
              "      border-bottom-color: var(--fill-color);\n",
              "      border-left-color: var(--fill-color);\n",
              "    }\n",
              "    20% {\n",
              "      border-color: transparent;\n",
              "      border-left-color: var(--fill-color);\n",
              "      border-top-color: var(--fill-color);\n",
              "    }\n",
              "    30% {\n",
              "      border-color: transparent;\n",
              "      border-left-color: var(--fill-color);\n",
              "      border-top-color: var(--fill-color);\n",
              "      border-right-color: var(--fill-color);\n",
              "    }\n",
              "    40% {\n",
              "      border-color: transparent;\n",
              "      border-right-color: var(--fill-color);\n",
              "      border-top-color: var(--fill-color);\n",
              "    }\n",
              "    60% {\n",
              "      border-color: transparent;\n",
              "      border-right-color: var(--fill-color);\n",
              "    }\n",
              "    80% {\n",
              "      border-color: transparent;\n",
              "      border-right-color: var(--fill-color);\n",
              "      border-bottom-color: var(--fill-color);\n",
              "    }\n",
              "    90% {\n",
              "      border-color: transparent;\n",
              "      border-bottom-color: var(--fill-color);\n",
              "    }\n",
              "  }\n",
              "</style>\n",
              "\n",
              "  <script>\n",
              "    async function quickchart(key) {\n",
              "      const quickchartButtonEl =\n",
              "        document.querySelector('#' + key + ' button');\n",
              "      quickchartButtonEl.disabled = true;  // To prevent multiple clicks.\n",
              "      quickchartButtonEl.classList.add('colab-df-spinner');\n",
              "      try {\n",
              "        const charts = await google.colab.kernel.invokeFunction(\n",
              "            'suggestCharts', [key], {});\n",
              "      } catch (error) {\n",
              "        console.error('Error during call to suggestCharts:', error);\n",
              "      }\n",
              "      quickchartButtonEl.classList.remove('colab-df-spinner');\n",
              "      quickchartButtonEl.classList.add('colab-df-quickchart-complete');\n",
              "    }\n",
              "    (() => {\n",
              "      let quickchartButtonEl =\n",
              "        document.querySelector('#df-9a9e7d10-69c3-4cfa-a96f-7749ac0e0b0e button');\n",
              "      quickchartButtonEl.style.display =\n",
              "        google.colab.kernel.accessAllowed ? 'block' : 'none';\n",
              "    })();\n",
              "  </script>\n",
              "</div>\n",
              "    </div>\n",
              "  </div>\n"
            ],
            "application/vnd.google.colaboratory.intrinsic+json": {
              "type": "dataframe",
              "variable_name": "train",
              "summary": "{\n  \"name\": \"train\",\n  \"rows\": 79,\n  \"fields\": [\n    {\n      \"column\": \"target\",\n      \"properties\": {\n        \"dtype\": \"number\",\n        \"std\": 0,\n        \"min\": 0,\n        \"max\": 2,\n        \"num_unique_values\": 3,\n        \"samples\": [\n          0,\n          1,\n          2\n        ],\n        \"semantic_type\": \"\",\n        \"description\": \"\"\n      }\n    },\n    {\n      \"column\": \"text\",\n      \"properties\": {\n        \"dtype\": \"string\",\n        \"num_unique_values\": 70,\n        \"samples\": [\n          \"DURING PAYMENT THROUGH DEBIT CARD IT SHOWS PAYMENT FAILURE . AN ERROR MESSAGE WAS SHOWN THAT \\\" THIS CARD IS NOT RECOGNISED \\\" .\",\n          \"I APPLIED FOR A CREDIT CARD LAST MONTH BUT I DID NOT GET THAT ONE TILL NOW . ALTHOUGH I FULLFILL ALL THE CRITERIA REQUIRED FOR APPLYING CREDIT CARD .\",\n          \"There was a payment gateway failure and money has been debited .\"\n        ],\n        \"semantic_type\": \"\",\n        \"description\": \"\"\n      }\n    }\n  ]\n}"
            }
          },
          "metadata": {},
          "execution_count": 13
        }
      ]
    },
    {
      "cell_type": "markdown",
      "metadata": {
        "id": "VQFpMc7pr5My"
      },
      "source": [
        " Check the number of intents."
      ]
    },
    {
      "cell_type": "code",
      "metadata": {
        "id": "63HCDQh2r4Ue",
        "outputId": "cd4f80f6-b1b6-4109-ab77-cc19e0e1e4fa",
        "colab": {
          "base_uri": "https://localhost:8080/"
        }
      },
      "source": [
        "train['target'].value_counts() #Get counts of different types of target variable in train data. We will not be using this anywhere but it is just for the overview of the data."
      ],
      "execution_count": null,
      "outputs": [
        {
          "output_type": "execute_result",
          "data": {
            "text/plain": [
              "target\n",
              "2    29\n",
              "1    26\n",
              "0    24\n",
              "Name: count, dtype: int64"
            ]
          },
          "metadata": {},
          "execution_count": 14
        }
      ]
    },
    {
      "cell_type": "markdown",
      "metadata": {
        "id": "Vaan11BFwPUM"
      },
      "source": [
        "### 3. Preprocessing the Data\n",
        "We will be doing the following preprocessing steps to get the desired format of the data.\n",
        "\n",
        "1. Perform One Hot Encoding on the target variable of both train & test datasets.\n",
        "2. Convert the text into lower case.\n",
        "3. Tokenize the words.\n",
        "4. Remove stop words.\n",
        "5. Perform stemming & normalization.\n",
        "6. Convert texts into sequences.\n",
        "7. Pad the sequences.\n"
      ]
    },
    {
      "cell_type": "code",
      "metadata": {
        "id": "0ASGgSyGwzgS"
      },
      "source": [
        "encode_target= oneHot().fit(np.array(train.target).reshape(-1,1)) #We perform one hot encoding on the target variable to convert into a matrix of 0s and 1s."
      ],
      "execution_count": null,
      "outputs": []
    },
    {
      "cell_type": "markdown",
      "metadata": {
        "id": "YY1ZPSK1CjEP"
      },
      "source": [
        "Perform One Hot Encoding on the target variable. The output of this step would be an array with 0s and 1s."
      ]
    },
    {
      "cell_type": "code",
      "metadata": {
        "id": "8fN8Y4bOzXk7"
      },
      "source": [
        "train_target_encoded= encode_target.transform(np.array(train.target).reshape(-1,1)).toarray()\n",
        "test_target_encoded= encode_target.transform(np.array(test.target).reshape(-1,1)).toarray()"
      ],
      "execution_count": null,
      "outputs": []
    },
    {
      "cell_type": "code",
      "source": [
        "train_target_encoded"
      ],
      "metadata": {
        "colab": {
          "base_uri": "https://localhost:8080/"
        },
        "id": "pwXR1SBGFtwm",
        "outputId": "b8e9f67e-8363-463f-b598-befa49e40b44"
      },
      "execution_count": null,
      "outputs": [
        {
          "output_type": "execute_result",
          "data": {
            "text/plain": [
              "array([[1., 0., 0.],\n",
              "       [0., 1., 0.],\n",
              "       [1., 0., 0.],\n",
              "       [1., 0., 0.],\n",
              "       [0., 1., 0.],\n",
              "       [0., 1., 0.],\n",
              "       [1., 0., 0.],\n",
              "       [1., 0., 0.],\n",
              "       [0., 1., 0.],\n",
              "       [0., 1., 0.],\n",
              "       [0., 0., 1.],\n",
              "       [0., 0., 1.],\n",
              "       [0., 0., 1.],\n",
              "       [0., 0., 1.],\n",
              "       [0., 0., 1.],\n",
              "       [0., 0., 1.],\n",
              "       [0., 0., 1.],\n",
              "       [0., 0., 1.],\n",
              "       [0., 0., 1.],\n",
              "       [0., 0., 1.],\n",
              "       [0., 1., 0.],\n",
              "       [1., 0., 0.],\n",
              "       [1., 0., 0.],\n",
              "       [0., 1., 0.],\n",
              "       [0., 0., 1.],\n",
              "       [0., 1., 0.],\n",
              "       [0., 1., 0.],\n",
              "       [0., 1., 0.],\n",
              "       [1., 0., 0.],\n",
              "       [1., 0., 0.],\n",
              "       [1., 0., 0.],\n",
              "       [0., 0., 1.],\n",
              "       [0., 0., 1.],\n",
              "       [0., 0., 1.],\n",
              "       [0., 0., 1.],\n",
              "       [0., 0., 1.],\n",
              "       [0., 1., 0.],\n",
              "       [1., 0., 0.],\n",
              "       [1., 0., 0.],\n",
              "       [0., 1., 0.],\n",
              "       [0., 1., 0.],\n",
              "       [0., 1., 0.],\n",
              "       [0., 1., 0.],\n",
              "       [0., 1., 0.],\n",
              "       [0., 0., 1.],\n",
              "       [0., 0., 1.],\n",
              "       [1., 0., 0.],\n",
              "       [1., 0., 0.],\n",
              "       [1., 0., 0.],\n",
              "       [0., 1., 0.],\n",
              "       [0., 1., 0.],\n",
              "       [0., 0., 1.],\n",
              "       [0., 0., 1.],\n",
              "       [0., 0., 1.],\n",
              "       [0., 0., 1.],\n",
              "       [0., 0., 1.],\n",
              "       [0., 0., 1.],\n",
              "       [0., 0., 1.],\n",
              "       [0., 0., 1.],\n",
              "       [0., 1., 0.],\n",
              "       [0., 1., 0.],\n",
              "       [1., 0., 0.],\n",
              "       [0., 1., 0.],\n",
              "       [0., 1., 0.],\n",
              "       [0., 1., 0.],\n",
              "       [1., 0., 0.],\n",
              "       [1., 0., 0.],\n",
              "       [1., 0., 0.],\n",
              "       [0., 0., 1.],\n",
              "       [0., 0., 1.],\n",
              "       [0., 0., 1.],\n",
              "       [0., 1., 0.],\n",
              "       [0., 1., 0.],\n",
              "       [0., 1., 0.],\n",
              "       [1., 0., 0.],\n",
              "       [1., 0., 0.],\n",
              "       [1., 0., 0.],\n",
              "       [1., 0., 0.],\n",
              "       [1., 0., 0.]])"
            ]
          },
          "metadata": {},
          "execution_count": 17
        }
      ]
    },
    {
      "cell_type": "code",
      "source": [
        "test_target_encoded"
      ],
      "metadata": {
        "colab": {
          "base_uri": "https://localhost:8080/"
        },
        "id": "ssZfJrraF7Ik",
        "outputId": "059396fc-c0ea-4c95-bb91-ef83e9fc3084"
      },
      "execution_count": null,
      "outputs": [
        {
          "output_type": "execute_result",
          "data": {
            "text/plain": [
              "array([[1., 0., 0.],\n",
              "       [0., 1., 0.],\n",
              "       [1., 0., 0.],\n",
              "       [1., 0., 0.],\n",
              "       [1., 0., 0.],\n",
              "       [1., 0., 0.],\n",
              "       [1., 0., 0.],\n",
              "       [0., 0., 1.],\n",
              "       [0., 0., 1.],\n",
              "       [0., 0., 1.],\n",
              "       [0., 0., 1.],\n",
              "       [0., 1., 0.],\n",
              "       [0., 1., 0.],\n",
              "       [0., 1., 0.],\n",
              "       [0., 0., 1.],\n",
              "       [0., 0., 1.],\n",
              "       [0., 0., 1.],\n",
              "       [0., 1., 0.],\n",
              "       [1., 0., 0.],\n",
              "       [1., 0., 0.],\n",
              "       [1., 0., 0.]])"
            ]
          },
          "metadata": {},
          "execution_count": 18
        }
      ]
    },
    {
      "cell_type": "markdown",
      "metadata": {
        "id": "G2HirMzwDf5q"
      },
      "source": [
        "Convert text to lower case"
      ]
    },
    {
      "cell_type": "code",
      "metadata": {
        "id": "xiUYFX5Ywcnq"
      },
      "source": [
        "train[\"text\"]= train.text.map(lambda l: l.lower())\n",
        "test[\"text\"]= test.text.map(lambda l: l.lower())"
      ],
      "execution_count": null,
      "outputs": []
    },
    {
      "cell_type": "code",
      "source": [
        "train.head()"
      ],
      "metadata": {
        "colab": {
          "base_uri": "https://localhost:8080/",
          "height": 206
        },
        "id": "V6bc7Fh6GFU3",
        "outputId": "0731ab6a-a2b5-4a49-d199-a55232870db1"
      },
      "execution_count": null,
      "outputs": [
        {
          "output_type": "execute_result",
          "data": {
            "text/plain": [
              "   target                                               text\n",
              "0       0  i applied for a credit card last month but i d...\n",
              "1       1  i opened a new account in your bank but when i...\n",
              "2       0  i applied for debit or credit card when i open...\n",
              "3       0  till now i did not get any debit or credit car...\n",
              "4       1  i gave an application for linking unique numbe..."
            ],
            "text/html": [
              "\n",
              "  <div id=\"df-5d1cd55e-8de9-431b-8c5a-e11f5ac85c06\" class=\"colab-df-container\">\n",
              "    <div>\n",
              "<style scoped>\n",
              "    .dataframe tbody tr th:only-of-type {\n",
              "        vertical-align: middle;\n",
              "    }\n",
              "\n",
              "    .dataframe tbody tr th {\n",
              "        vertical-align: top;\n",
              "    }\n",
              "\n",
              "    .dataframe thead th {\n",
              "        text-align: right;\n",
              "    }\n",
              "</style>\n",
              "<table border=\"1\" class=\"dataframe\">\n",
              "  <thead>\n",
              "    <tr style=\"text-align: right;\">\n",
              "      <th></th>\n",
              "      <th>target</th>\n",
              "      <th>text</th>\n",
              "    </tr>\n",
              "  </thead>\n",
              "  <tbody>\n",
              "    <tr>\n",
              "      <th>0</th>\n",
              "      <td>0</td>\n",
              "      <td>i applied for a credit card last month but i d...</td>\n",
              "    </tr>\n",
              "    <tr>\n",
              "      <th>1</th>\n",
              "      <td>1</td>\n",
              "      <td>i opened a new account in your bank but when i...</td>\n",
              "    </tr>\n",
              "    <tr>\n",
              "      <th>2</th>\n",
              "      <td>0</td>\n",
              "      <td>i applied for debit or credit card when i open...</td>\n",
              "    </tr>\n",
              "    <tr>\n",
              "      <th>3</th>\n",
              "      <td>0</td>\n",
              "      <td>till now i did not get any debit or credit car...</td>\n",
              "    </tr>\n",
              "    <tr>\n",
              "      <th>4</th>\n",
              "      <td>1</td>\n",
              "      <td>i gave an application for linking unique numbe...</td>\n",
              "    </tr>\n",
              "  </tbody>\n",
              "</table>\n",
              "</div>\n",
              "    <div class=\"colab-df-buttons\">\n",
              "\n",
              "  <div class=\"colab-df-container\">\n",
              "    <button class=\"colab-df-convert\" onclick=\"convertToInteractive('df-5d1cd55e-8de9-431b-8c5a-e11f5ac85c06')\"\n",
              "            title=\"Convert this dataframe to an interactive table.\"\n",
              "            style=\"display:none;\">\n",
              "\n",
              "  <svg xmlns=\"http://www.w3.org/2000/svg\" height=\"24px\" viewBox=\"0 -960 960 960\">\n",
              "    <path d=\"M120-120v-720h720v720H120Zm60-500h600v-160H180v160Zm220 220h160v-160H400v160Zm0 220h160v-160H400v160ZM180-400h160v-160H180v160Zm440 0h160v-160H620v160ZM180-180h160v-160H180v160Zm440 0h160v-160H620v160Z\"/>\n",
              "  </svg>\n",
              "    </button>\n",
              "\n",
              "  <style>\n",
              "    .colab-df-container {\n",
              "      display:flex;\n",
              "      gap: 12px;\n",
              "    }\n",
              "\n",
              "    .colab-df-convert {\n",
              "      background-color: #E8F0FE;\n",
              "      border: none;\n",
              "      border-radius: 50%;\n",
              "      cursor: pointer;\n",
              "      display: none;\n",
              "      fill: #1967D2;\n",
              "      height: 32px;\n",
              "      padding: 0 0 0 0;\n",
              "      width: 32px;\n",
              "    }\n",
              "\n",
              "    .colab-df-convert:hover {\n",
              "      background-color: #E2EBFA;\n",
              "      box-shadow: 0px 1px 2px rgba(60, 64, 67, 0.3), 0px 1px 3px 1px rgba(60, 64, 67, 0.15);\n",
              "      fill: #174EA6;\n",
              "    }\n",
              "\n",
              "    .colab-df-buttons div {\n",
              "      margin-bottom: 4px;\n",
              "    }\n",
              "\n",
              "    [theme=dark] .colab-df-convert {\n",
              "      background-color: #3B4455;\n",
              "      fill: #D2E3FC;\n",
              "    }\n",
              "\n",
              "    [theme=dark] .colab-df-convert:hover {\n",
              "      background-color: #434B5C;\n",
              "      box-shadow: 0px 1px 3px 1px rgba(0, 0, 0, 0.15);\n",
              "      filter: drop-shadow(0px 1px 2px rgba(0, 0, 0, 0.3));\n",
              "      fill: #FFFFFF;\n",
              "    }\n",
              "  </style>\n",
              "\n",
              "    <script>\n",
              "      const buttonEl =\n",
              "        document.querySelector('#df-5d1cd55e-8de9-431b-8c5a-e11f5ac85c06 button.colab-df-convert');\n",
              "      buttonEl.style.display =\n",
              "        google.colab.kernel.accessAllowed ? 'block' : 'none';\n",
              "\n",
              "      async function convertToInteractive(key) {\n",
              "        const element = document.querySelector('#df-5d1cd55e-8de9-431b-8c5a-e11f5ac85c06');\n",
              "        const dataTable =\n",
              "          await google.colab.kernel.invokeFunction('convertToInteractive',\n",
              "                                                    [key], {});\n",
              "        if (!dataTable) return;\n",
              "\n",
              "        const docLinkHtml = 'Like what you see? Visit the ' +\n",
              "          '<a target=\"_blank\" href=https://colab.research.google.com/notebooks/data_table.ipynb>data table notebook</a>'\n",
              "          + ' to learn more about interactive tables.';\n",
              "        element.innerHTML = '';\n",
              "        dataTable['output_type'] = 'display_data';\n",
              "        await google.colab.output.renderOutput(dataTable, element);\n",
              "        const docLink = document.createElement('div');\n",
              "        docLink.innerHTML = docLinkHtml;\n",
              "        element.appendChild(docLink);\n",
              "      }\n",
              "    </script>\n",
              "  </div>\n",
              "\n",
              "\n",
              "<div id=\"df-3df21521-955b-47ba-8f32-a34e34cf6596\">\n",
              "  <button class=\"colab-df-quickchart\" onclick=\"quickchart('df-3df21521-955b-47ba-8f32-a34e34cf6596')\"\n",
              "            title=\"Suggest charts\"\n",
              "            style=\"display:none;\">\n",
              "\n",
              "<svg xmlns=\"http://www.w3.org/2000/svg\" height=\"24px\"viewBox=\"0 0 24 24\"\n",
              "     width=\"24px\">\n",
              "    <g>\n",
              "        <path d=\"M19 3H5c-1.1 0-2 .9-2 2v14c0 1.1.9 2 2 2h14c1.1 0 2-.9 2-2V5c0-1.1-.9-2-2-2zM9 17H7v-7h2v7zm4 0h-2V7h2v10zm4 0h-2v-4h2v4z\"/>\n",
              "    </g>\n",
              "</svg>\n",
              "  </button>\n",
              "\n",
              "<style>\n",
              "  .colab-df-quickchart {\n",
              "      --bg-color: #E8F0FE;\n",
              "      --fill-color: #1967D2;\n",
              "      --hover-bg-color: #E2EBFA;\n",
              "      --hover-fill-color: #174EA6;\n",
              "      --disabled-fill-color: #AAA;\n",
              "      --disabled-bg-color: #DDD;\n",
              "  }\n",
              "\n",
              "  [theme=dark] .colab-df-quickchart {\n",
              "      --bg-color: #3B4455;\n",
              "      --fill-color: #D2E3FC;\n",
              "      --hover-bg-color: #434B5C;\n",
              "      --hover-fill-color: #FFFFFF;\n",
              "      --disabled-bg-color: #3B4455;\n",
              "      --disabled-fill-color: #666;\n",
              "  }\n",
              "\n",
              "  .colab-df-quickchart {\n",
              "    background-color: var(--bg-color);\n",
              "    border: none;\n",
              "    border-radius: 50%;\n",
              "    cursor: pointer;\n",
              "    display: none;\n",
              "    fill: var(--fill-color);\n",
              "    height: 32px;\n",
              "    padding: 0;\n",
              "    width: 32px;\n",
              "  }\n",
              "\n",
              "  .colab-df-quickchart:hover {\n",
              "    background-color: var(--hover-bg-color);\n",
              "    box-shadow: 0 1px 2px rgba(60, 64, 67, 0.3), 0 1px 3px 1px rgba(60, 64, 67, 0.15);\n",
              "    fill: var(--button-hover-fill-color);\n",
              "  }\n",
              "\n",
              "  .colab-df-quickchart-complete:disabled,\n",
              "  .colab-df-quickchart-complete:disabled:hover {\n",
              "    background-color: var(--disabled-bg-color);\n",
              "    fill: var(--disabled-fill-color);\n",
              "    box-shadow: none;\n",
              "  }\n",
              "\n",
              "  .colab-df-spinner {\n",
              "    border: 2px solid var(--fill-color);\n",
              "    border-color: transparent;\n",
              "    border-bottom-color: var(--fill-color);\n",
              "    animation:\n",
              "      spin 1s steps(1) infinite;\n",
              "  }\n",
              "\n",
              "  @keyframes spin {\n",
              "    0% {\n",
              "      border-color: transparent;\n",
              "      border-bottom-color: var(--fill-color);\n",
              "      border-left-color: var(--fill-color);\n",
              "    }\n",
              "    20% {\n",
              "      border-color: transparent;\n",
              "      border-left-color: var(--fill-color);\n",
              "      border-top-color: var(--fill-color);\n",
              "    }\n",
              "    30% {\n",
              "      border-color: transparent;\n",
              "      border-left-color: var(--fill-color);\n",
              "      border-top-color: var(--fill-color);\n",
              "      border-right-color: var(--fill-color);\n",
              "    }\n",
              "    40% {\n",
              "      border-color: transparent;\n",
              "      border-right-color: var(--fill-color);\n",
              "      border-top-color: var(--fill-color);\n",
              "    }\n",
              "    60% {\n",
              "      border-color: transparent;\n",
              "      border-right-color: var(--fill-color);\n",
              "    }\n",
              "    80% {\n",
              "      border-color: transparent;\n",
              "      border-right-color: var(--fill-color);\n",
              "      border-bottom-color: var(--fill-color);\n",
              "    }\n",
              "    90% {\n",
              "      border-color: transparent;\n",
              "      border-bottom-color: var(--fill-color);\n",
              "    }\n",
              "  }\n",
              "</style>\n",
              "\n",
              "  <script>\n",
              "    async function quickchart(key) {\n",
              "      const quickchartButtonEl =\n",
              "        document.querySelector('#' + key + ' button');\n",
              "      quickchartButtonEl.disabled = true;  // To prevent multiple clicks.\n",
              "      quickchartButtonEl.classList.add('colab-df-spinner');\n",
              "      try {\n",
              "        const charts = await google.colab.kernel.invokeFunction(\n",
              "            'suggestCharts', [key], {});\n",
              "      } catch (error) {\n",
              "        console.error('Error during call to suggestCharts:', error);\n",
              "      }\n",
              "      quickchartButtonEl.classList.remove('colab-df-spinner');\n",
              "      quickchartButtonEl.classList.add('colab-df-quickchart-complete');\n",
              "    }\n",
              "    (() => {\n",
              "      let quickchartButtonEl =\n",
              "        document.querySelector('#df-3df21521-955b-47ba-8f32-a34e34cf6596 button');\n",
              "      quickchartButtonEl.style.display =\n",
              "        google.colab.kernel.accessAllowed ? 'block' : 'none';\n",
              "    })();\n",
              "  </script>\n",
              "</div>\n",
              "    </div>\n",
              "  </div>\n"
            ],
            "application/vnd.google.colaboratory.intrinsic+json": {
              "type": "dataframe",
              "variable_name": "train",
              "summary": "{\n  \"name\": \"train\",\n  \"rows\": 79,\n  \"fields\": [\n    {\n      \"column\": \"target\",\n      \"properties\": {\n        \"dtype\": \"number\",\n        \"std\": 0,\n        \"min\": 0,\n        \"max\": 2,\n        \"num_unique_values\": 3,\n        \"samples\": [\n          0,\n          1,\n          2\n        ],\n        \"semantic_type\": \"\",\n        \"description\": \"\"\n      }\n    },\n    {\n      \"column\": \"text\",\n      \"properties\": {\n        \"dtype\": \"string\",\n        \"num_unique_values\": 70,\n        \"samples\": [\n          \"during payment through debit card it shows payment failure . an error message was shown that \\\" this card is not recognised \\\" .\",\n          \"i applied for a credit card last month but i did not get that one till now . although i fullfill all the criteria required for applying credit card .\",\n          \"there was a payment gateway failure and money has been debited .\"\n        ],\n        \"semantic_type\": \"\",\n        \"description\": \"\"\n      }\n    }\n  ]\n}"
            }
          },
          "metadata": {},
          "execution_count": 20
        }
      ]
    },
    {
      "cell_type": "code",
      "source": [
        "test.head()"
      ],
      "metadata": {
        "colab": {
          "base_uri": "https://localhost:8080/",
          "height": 206
        },
        "id": "I0GDtJKhGJAb",
        "outputId": "740f24d9-af53-4514-a22b-0c88467ded65"
      },
      "execution_count": null,
      "outputs": [
        {
          "output_type": "execute_result",
          "data": {
            "text/plain": [
              "   target                                               text\n",
              "0       0  during withdrawing money from account using de...\n",
              "1       1  the address mentioned on my account is not cor...\n",
              "2       0  the pin you entered is wrong message was shown...\n",
              "3       0  i want to change my debit card pin but not abl...\n",
              "4       0  i am not able to change my debit card security..."
            ],
            "text/html": [
              "\n",
              "  <div id=\"df-da0010c8-7b6a-4946-af82-a56baac25321\" class=\"colab-df-container\">\n",
              "    <div>\n",
              "<style scoped>\n",
              "    .dataframe tbody tr th:only-of-type {\n",
              "        vertical-align: middle;\n",
              "    }\n",
              "\n",
              "    .dataframe tbody tr th {\n",
              "        vertical-align: top;\n",
              "    }\n",
              "\n",
              "    .dataframe thead th {\n",
              "        text-align: right;\n",
              "    }\n",
              "</style>\n",
              "<table border=\"1\" class=\"dataframe\">\n",
              "  <thead>\n",
              "    <tr style=\"text-align: right;\">\n",
              "      <th></th>\n",
              "      <th>target</th>\n",
              "      <th>text</th>\n",
              "    </tr>\n",
              "  </thead>\n",
              "  <tbody>\n",
              "    <tr>\n",
              "      <th>0</th>\n",
              "      <td>0</td>\n",
              "      <td>during withdrawing money from account using de...</td>\n",
              "    </tr>\n",
              "    <tr>\n",
              "      <th>1</th>\n",
              "      <td>1</td>\n",
              "      <td>the address mentioned on my account is not cor...</td>\n",
              "    </tr>\n",
              "    <tr>\n",
              "      <th>2</th>\n",
              "      <td>0</td>\n",
              "      <td>the pin you entered is wrong message was shown...</td>\n",
              "    </tr>\n",
              "    <tr>\n",
              "      <th>3</th>\n",
              "      <td>0</td>\n",
              "      <td>i want to change my debit card pin but not abl...</td>\n",
              "    </tr>\n",
              "    <tr>\n",
              "      <th>4</th>\n",
              "      <td>0</td>\n",
              "      <td>i am not able to change my debit card security...</td>\n",
              "    </tr>\n",
              "  </tbody>\n",
              "</table>\n",
              "</div>\n",
              "    <div class=\"colab-df-buttons\">\n",
              "\n",
              "  <div class=\"colab-df-container\">\n",
              "    <button class=\"colab-df-convert\" onclick=\"convertToInteractive('df-da0010c8-7b6a-4946-af82-a56baac25321')\"\n",
              "            title=\"Convert this dataframe to an interactive table.\"\n",
              "            style=\"display:none;\">\n",
              "\n",
              "  <svg xmlns=\"http://www.w3.org/2000/svg\" height=\"24px\" viewBox=\"0 -960 960 960\">\n",
              "    <path d=\"M120-120v-720h720v720H120Zm60-500h600v-160H180v160Zm220 220h160v-160H400v160Zm0 220h160v-160H400v160ZM180-400h160v-160H180v160Zm440 0h160v-160H620v160ZM180-180h160v-160H180v160Zm440 0h160v-160H620v160Z\"/>\n",
              "  </svg>\n",
              "    </button>\n",
              "\n",
              "  <style>\n",
              "    .colab-df-container {\n",
              "      display:flex;\n",
              "      gap: 12px;\n",
              "    }\n",
              "\n",
              "    .colab-df-convert {\n",
              "      background-color: #E8F0FE;\n",
              "      border: none;\n",
              "      border-radius: 50%;\n",
              "      cursor: pointer;\n",
              "      display: none;\n",
              "      fill: #1967D2;\n",
              "      height: 32px;\n",
              "      padding: 0 0 0 0;\n",
              "      width: 32px;\n",
              "    }\n",
              "\n",
              "    .colab-df-convert:hover {\n",
              "      background-color: #E2EBFA;\n",
              "      box-shadow: 0px 1px 2px rgba(60, 64, 67, 0.3), 0px 1px 3px 1px rgba(60, 64, 67, 0.15);\n",
              "      fill: #174EA6;\n",
              "    }\n",
              "\n",
              "    .colab-df-buttons div {\n",
              "      margin-bottom: 4px;\n",
              "    }\n",
              "\n",
              "    [theme=dark] .colab-df-convert {\n",
              "      background-color: #3B4455;\n",
              "      fill: #D2E3FC;\n",
              "    }\n",
              "\n",
              "    [theme=dark] .colab-df-convert:hover {\n",
              "      background-color: #434B5C;\n",
              "      box-shadow: 0px 1px 3px 1px rgba(0, 0, 0, 0.15);\n",
              "      filter: drop-shadow(0px 1px 2px rgba(0, 0, 0, 0.3));\n",
              "      fill: #FFFFFF;\n",
              "    }\n",
              "  </style>\n",
              "\n",
              "    <script>\n",
              "      const buttonEl =\n",
              "        document.querySelector('#df-da0010c8-7b6a-4946-af82-a56baac25321 button.colab-df-convert');\n",
              "      buttonEl.style.display =\n",
              "        google.colab.kernel.accessAllowed ? 'block' : 'none';\n",
              "\n",
              "      async function convertToInteractive(key) {\n",
              "        const element = document.querySelector('#df-da0010c8-7b6a-4946-af82-a56baac25321');\n",
              "        const dataTable =\n",
              "          await google.colab.kernel.invokeFunction('convertToInteractive',\n",
              "                                                    [key], {});\n",
              "        if (!dataTable) return;\n",
              "\n",
              "        const docLinkHtml = 'Like what you see? Visit the ' +\n",
              "          '<a target=\"_blank\" href=https://colab.research.google.com/notebooks/data_table.ipynb>data table notebook</a>'\n",
              "          + ' to learn more about interactive tables.';\n",
              "        element.innerHTML = '';\n",
              "        dataTable['output_type'] = 'display_data';\n",
              "        await google.colab.output.renderOutput(dataTable, element);\n",
              "        const docLink = document.createElement('div');\n",
              "        docLink.innerHTML = docLinkHtml;\n",
              "        element.appendChild(docLink);\n",
              "      }\n",
              "    </script>\n",
              "  </div>\n",
              "\n",
              "\n",
              "<div id=\"df-853cd828-406a-4326-a2de-442ee4a8f560\">\n",
              "  <button class=\"colab-df-quickchart\" onclick=\"quickchart('df-853cd828-406a-4326-a2de-442ee4a8f560')\"\n",
              "            title=\"Suggest charts\"\n",
              "            style=\"display:none;\">\n",
              "\n",
              "<svg xmlns=\"http://www.w3.org/2000/svg\" height=\"24px\"viewBox=\"0 0 24 24\"\n",
              "     width=\"24px\">\n",
              "    <g>\n",
              "        <path d=\"M19 3H5c-1.1 0-2 .9-2 2v14c0 1.1.9 2 2 2h14c1.1 0 2-.9 2-2V5c0-1.1-.9-2-2-2zM9 17H7v-7h2v7zm4 0h-2V7h2v10zm4 0h-2v-4h2v4z\"/>\n",
              "    </g>\n",
              "</svg>\n",
              "  </button>\n",
              "\n",
              "<style>\n",
              "  .colab-df-quickchart {\n",
              "      --bg-color: #E8F0FE;\n",
              "      --fill-color: #1967D2;\n",
              "      --hover-bg-color: #E2EBFA;\n",
              "      --hover-fill-color: #174EA6;\n",
              "      --disabled-fill-color: #AAA;\n",
              "      --disabled-bg-color: #DDD;\n",
              "  }\n",
              "\n",
              "  [theme=dark] .colab-df-quickchart {\n",
              "      --bg-color: #3B4455;\n",
              "      --fill-color: #D2E3FC;\n",
              "      --hover-bg-color: #434B5C;\n",
              "      --hover-fill-color: #FFFFFF;\n",
              "      --disabled-bg-color: #3B4455;\n",
              "      --disabled-fill-color: #666;\n",
              "  }\n",
              "\n",
              "  .colab-df-quickchart {\n",
              "    background-color: var(--bg-color);\n",
              "    border: none;\n",
              "    border-radius: 50%;\n",
              "    cursor: pointer;\n",
              "    display: none;\n",
              "    fill: var(--fill-color);\n",
              "    height: 32px;\n",
              "    padding: 0;\n",
              "    width: 32px;\n",
              "  }\n",
              "\n",
              "  .colab-df-quickchart:hover {\n",
              "    background-color: var(--hover-bg-color);\n",
              "    box-shadow: 0 1px 2px rgba(60, 64, 67, 0.3), 0 1px 3px 1px rgba(60, 64, 67, 0.15);\n",
              "    fill: var(--button-hover-fill-color);\n",
              "  }\n",
              "\n",
              "  .colab-df-quickchart-complete:disabled,\n",
              "  .colab-df-quickchart-complete:disabled:hover {\n",
              "    background-color: var(--disabled-bg-color);\n",
              "    fill: var(--disabled-fill-color);\n",
              "    box-shadow: none;\n",
              "  }\n",
              "\n",
              "  .colab-df-spinner {\n",
              "    border: 2px solid var(--fill-color);\n",
              "    border-color: transparent;\n",
              "    border-bottom-color: var(--fill-color);\n",
              "    animation:\n",
              "      spin 1s steps(1) infinite;\n",
              "  }\n",
              "\n",
              "  @keyframes spin {\n",
              "    0% {\n",
              "      border-color: transparent;\n",
              "      border-bottom-color: var(--fill-color);\n",
              "      border-left-color: var(--fill-color);\n",
              "    }\n",
              "    20% {\n",
              "      border-color: transparent;\n",
              "      border-left-color: var(--fill-color);\n",
              "      border-top-color: var(--fill-color);\n",
              "    }\n",
              "    30% {\n",
              "      border-color: transparent;\n",
              "      border-left-color: var(--fill-color);\n",
              "      border-top-color: var(--fill-color);\n",
              "      border-right-color: var(--fill-color);\n",
              "    }\n",
              "    40% {\n",
              "      border-color: transparent;\n",
              "      border-right-color: var(--fill-color);\n",
              "      border-top-color: var(--fill-color);\n",
              "    }\n",
              "    60% {\n",
              "      border-color: transparent;\n",
              "      border-right-color: var(--fill-color);\n",
              "    }\n",
              "    80% {\n",
              "      border-color: transparent;\n",
              "      border-right-color: var(--fill-color);\n",
              "      border-bottom-color: var(--fill-color);\n",
              "    }\n",
              "    90% {\n",
              "      border-color: transparent;\n",
              "      border-bottom-color: var(--fill-color);\n",
              "    }\n",
              "  }\n",
              "</style>\n",
              "\n",
              "  <script>\n",
              "    async function quickchart(key) {\n",
              "      const quickchartButtonEl =\n",
              "        document.querySelector('#' + key + ' button');\n",
              "      quickchartButtonEl.disabled = true;  // To prevent multiple clicks.\n",
              "      quickchartButtonEl.classList.add('colab-df-spinner');\n",
              "      try {\n",
              "        const charts = await google.colab.kernel.invokeFunction(\n",
              "            'suggestCharts', [key], {});\n",
              "      } catch (error) {\n",
              "        console.error('Error during call to suggestCharts:', error);\n",
              "      }\n",
              "      quickchartButtonEl.classList.remove('colab-df-spinner');\n",
              "      quickchartButtonEl.classList.add('colab-df-quickchart-complete');\n",
              "    }\n",
              "    (() => {\n",
              "      let quickchartButtonEl =\n",
              "        document.querySelector('#df-853cd828-406a-4326-a2de-442ee4a8f560 button');\n",
              "      quickchartButtonEl.style.display =\n",
              "        google.colab.kernel.accessAllowed ? 'block' : 'none';\n",
              "    })();\n",
              "  </script>\n",
              "</div>\n",
              "    </div>\n",
              "  </div>\n"
            ],
            "application/vnd.google.colaboratory.intrinsic+json": {
              "type": "dataframe",
              "variable_name": "test",
              "summary": "{\n  \"name\": \"test\",\n  \"rows\": 21,\n  \"fields\": [\n    {\n      \"column\": \"target\",\n      \"properties\": {\n        \"dtype\": \"number\",\n        \"std\": 0,\n        \"min\": 0,\n        \"max\": 2,\n        \"num_unique_values\": 3,\n        \"samples\": [\n          0,\n          1,\n          2\n        ],\n        \"semantic_type\": \"\",\n        \"description\": \"\"\n      }\n    },\n    {\n      \"column\": \"text\",\n      \"properties\": {\n        \"dtype\": \"string\",\n        \"num_unique_values\": 21,\n        \"samples\": [\n          \"during withdrawing money from account using debit card from a atm , it was shown that that the pin you entered is incorrect although i entered the correct pin .\",\n          \"a check book is issued on my account but i do not applied for any one . due to this charge for issuing check book is deduced from my account .\",\n          \"how do i find out why a payment or refund transaction failed\"\n        ],\n        \"semantic_type\": \"\",\n        \"description\": \"\"\n      }\n    }\n  ]\n}"
            }
          },
          "metadata": {},
          "execution_count": 21
        }
      ]
    },
    {
      "cell_type": "markdown",
      "metadata": {
        "id": "qinvp54EDer0"
      },
      "source": [
        "Next step is to tokenize the text. We use word_tokenize function from nltk library for this purpose."
      ]
    },
    {
      "cell_type": "code",
      "metadata": {
        "id": "VJR50ShUwcht"
      },
      "source": [
        "train[\"text\"]= train.text.map(word_tokenize)\n",
        "test[\"text\"]= test.text.map(word_tokenize)"
      ],
      "execution_count": null,
      "outputs": []
    },
    {
      "cell_type": "code",
      "metadata": {
        "id": "HS2kgyqqEN1R",
        "outputId": "d469bb1f-4232-4e50-df80-7b946eefa506",
        "colab": {
          "base_uri": "https://localhost:8080/"
        }
      },
      "source": [
        "#Output of the above exercise looks like this\n",
        "train[\"text\"]"
      ],
      "execution_count": null,
      "outputs": [
        {
          "output_type": "execute_result",
          "data": {
            "text/plain": [
              "0     [i, applied, for, a, credit, card, last, month...\n",
              "1     [i, opened, a, new, account, in, your, bank, b...\n",
              "2     [i, applied, for, debit, or, credit, card, whe...\n",
              "3     [till, now, i, did, not, get, any, debit, or, ...\n",
              "4     [i, gave, an, application, for, linking, uniqu...\n",
              "                            ...                        \n",
              "74    [i, want, to, transfer, money, from, my, accou...\n",
              "75    [i, want, to, transfer, money, from, my, accou...\n",
              "76    [i, made, a, transaction, with, my, debit, car...\n",
              "77    [i, made, a, transaction, on, irctc, using, my...\n",
              "78    [i, applied, for, emi, on, an, online, shoppin...\n",
              "Name: text, Length: 79, dtype: object"
            ]
          },
          "metadata": {},
          "execution_count": 23
        }
      ]
    },
    {
      "cell_type": "markdown",
      "metadata": {
        "id": "IqBeYgcwEez3"
      },
      "source": [
        "Eliminate stop words. 'english' dictionary from nltk.corpus library is used for this purpose. We also remove punctuation along with the removal of stop words."
      ]
    },
    {
      "cell_type": "code",
      "metadata": {
        "id": "OlsQpXeOwcfG"
      },
      "source": [
        "def clean_data_rm_stop(strings, stop_list):\n",
        "    sw= [str for str in strings if str not in stop_list]\n",
        "    return sw\n",
        "\n",
        "stop_words= stopwords.words(\"english\")\n",
        "rm_punc_stop= list(set(punctuation))+ stop_words #Remove punctuation and stop words\n",
        "\n",
        "train[\"text\"]= train.text.map(lambda dataframe: clean_data_rm_stop(dataframe, rm_punc_stop))\n",
        "test[\"text\"]= test.text.map(lambda dataframe: clean_data_rm_stop(dataframe, rm_punc_stop))"
      ],
      "execution_count": null,
      "outputs": []
    },
    {
      "cell_type": "markdown",
      "metadata": {
        "id": "wUfp5HlrEd_z"
      },
      "source": [
        "Stemming & Normalizing\n",
        "\n",
        "\n",
        "*   Stemming helps in reducing the word to the root form.\n",
        "*   Normalizing is the process of transforming text into a standard form. Eg: Gud will be converted to good etc.\n",
        "\n",
        "\n"
      ]
    },
    {
      "cell_type": "code",
      "metadata": {
        "id": "VTyFrktRwcch"
      },
      "source": [
        "def normalize(text):\n",
        "    return \" \".join(text)\n",
        "\n",
        "#We use PorterStemmer function from nltk.stem library.\n",
        "stem_func= PorterStemmer()\n",
        "\n",
        "train[\"text\"]= train.text.map(lambda s: [stem_func.stem(x) for x in s])\n",
        "train[\"text\"]= train.text.apply(normalize)\n",
        "\n",
        "test[\"text\"]= test.text.map(lambda s: [stem_func.stem(x) for x in s])\n",
        "test[\"text\"]= test.text.apply(normalize)"
      ],
      "execution_count": null,
      "outputs": []
    },
    {
      "cell_type": "code",
      "source": [
        "train.head()"
      ],
      "metadata": {
        "colab": {
          "base_uri": "https://localhost:8080/",
          "height": 206
        },
        "id": "hCiWU8fSGX8L",
        "outputId": "b3179d83-843a-4fcb-9241-6c2ba31d017a"
      },
      "execution_count": null,
      "outputs": [
        {
          "output_type": "execute_result",
          "data": {
            "text/plain": [
              "   target                                               text\n",
              "0       0  appli credit card last month get one till alth...\n",
              "1       1  open new account bank got passbook found middl...\n",
              "2       0  appli debit credit card open account bank last...\n",
              "3       0   till get debit credit card appli last month bank\n",
              "4       1  gave applic link uniqu number bank account las..."
            ],
            "text/html": [
              "\n",
              "  <div id=\"df-b4556ea4-1a11-4769-a1e8-06e47e5537d3\" class=\"colab-df-container\">\n",
              "    <div>\n",
              "<style scoped>\n",
              "    .dataframe tbody tr th:only-of-type {\n",
              "        vertical-align: middle;\n",
              "    }\n",
              "\n",
              "    .dataframe tbody tr th {\n",
              "        vertical-align: top;\n",
              "    }\n",
              "\n",
              "    .dataframe thead th {\n",
              "        text-align: right;\n",
              "    }\n",
              "</style>\n",
              "<table border=\"1\" class=\"dataframe\">\n",
              "  <thead>\n",
              "    <tr style=\"text-align: right;\">\n",
              "      <th></th>\n",
              "      <th>target</th>\n",
              "      <th>text</th>\n",
              "    </tr>\n",
              "  </thead>\n",
              "  <tbody>\n",
              "    <tr>\n",
              "      <th>0</th>\n",
              "      <td>0</td>\n",
              "      <td>appli credit card last month get one till alth...</td>\n",
              "    </tr>\n",
              "    <tr>\n",
              "      <th>1</th>\n",
              "      <td>1</td>\n",
              "      <td>open new account bank got passbook found middl...</td>\n",
              "    </tr>\n",
              "    <tr>\n",
              "      <th>2</th>\n",
              "      <td>0</td>\n",
              "      <td>appli debit credit card open account bank last...</td>\n",
              "    </tr>\n",
              "    <tr>\n",
              "      <th>3</th>\n",
              "      <td>0</td>\n",
              "      <td>till get debit credit card appli last month bank</td>\n",
              "    </tr>\n",
              "    <tr>\n",
              "      <th>4</th>\n",
              "      <td>1</td>\n",
              "      <td>gave applic link uniqu number bank account las...</td>\n",
              "    </tr>\n",
              "  </tbody>\n",
              "</table>\n",
              "</div>\n",
              "    <div class=\"colab-df-buttons\">\n",
              "\n",
              "  <div class=\"colab-df-container\">\n",
              "    <button class=\"colab-df-convert\" onclick=\"convertToInteractive('df-b4556ea4-1a11-4769-a1e8-06e47e5537d3')\"\n",
              "            title=\"Convert this dataframe to an interactive table.\"\n",
              "            style=\"display:none;\">\n",
              "\n",
              "  <svg xmlns=\"http://www.w3.org/2000/svg\" height=\"24px\" viewBox=\"0 -960 960 960\">\n",
              "    <path d=\"M120-120v-720h720v720H120Zm60-500h600v-160H180v160Zm220 220h160v-160H400v160Zm0 220h160v-160H400v160ZM180-400h160v-160H180v160Zm440 0h160v-160H620v160ZM180-180h160v-160H180v160Zm440 0h160v-160H620v160Z\"/>\n",
              "  </svg>\n",
              "    </button>\n",
              "\n",
              "  <style>\n",
              "    .colab-df-container {\n",
              "      display:flex;\n",
              "      gap: 12px;\n",
              "    }\n",
              "\n",
              "    .colab-df-convert {\n",
              "      background-color: #E8F0FE;\n",
              "      border: none;\n",
              "      border-radius: 50%;\n",
              "      cursor: pointer;\n",
              "      display: none;\n",
              "      fill: #1967D2;\n",
              "      height: 32px;\n",
              "      padding: 0 0 0 0;\n",
              "      width: 32px;\n",
              "    }\n",
              "\n",
              "    .colab-df-convert:hover {\n",
              "      background-color: #E2EBFA;\n",
              "      box-shadow: 0px 1px 2px rgba(60, 64, 67, 0.3), 0px 1px 3px 1px rgba(60, 64, 67, 0.15);\n",
              "      fill: #174EA6;\n",
              "    }\n",
              "\n",
              "    .colab-df-buttons div {\n",
              "      margin-bottom: 4px;\n",
              "    }\n",
              "\n",
              "    [theme=dark] .colab-df-convert {\n",
              "      background-color: #3B4455;\n",
              "      fill: #D2E3FC;\n",
              "    }\n",
              "\n",
              "    [theme=dark] .colab-df-convert:hover {\n",
              "      background-color: #434B5C;\n",
              "      box-shadow: 0px 1px 3px 1px rgba(0, 0, 0, 0.15);\n",
              "      filter: drop-shadow(0px 1px 2px rgba(0, 0, 0, 0.3));\n",
              "      fill: #FFFFFF;\n",
              "    }\n",
              "  </style>\n",
              "\n",
              "    <script>\n",
              "      const buttonEl =\n",
              "        document.querySelector('#df-b4556ea4-1a11-4769-a1e8-06e47e5537d3 button.colab-df-convert');\n",
              "      buttonEl.style.display =\n",
              "        google.colab.kernel.accessAllowed ? 'block' : 'none';\n",
              "\n",
              "      async function convertToInteractive(key) {\n",
              "        const element = document.querySelector('#df-b4556ea4-1a11-4769-a1e8-06e47e5537d3');\n",
              "        const dataTable =\n",
              "          await google.colab.kernel.invokeFunction('convertToInteractive',\n",
              "                                                    [key], {});\n",
              "        if (!dataTable) return;\n",
              "\n",
              "        const docLinkHtml = 'Like what you see? Visit the ' +\n",
              "          '<a target=\"_blank\" href=https://colab.research.google.com/notebooks/data_table.ipynb>data table notebook</a>'\n",
              "          + ' to learn more about interactive tables.';\n",
              "        element.innerHTML = '';\n",
              "        dataTable['output_type'] = 'display_data';\n",
              "        await google.colab.output.renderOutput(dataTable, element);\n",
              "        const docLink = document.createElement('div');\n",
              "        docLink.innerHTML = docLinkHtml;\n",
              "        element.appendChild(docLink);\n",
              "      }\n",
              "    </script>\n",
              "  </div>\n",
              "\n",
              "\n",
              "<div id=\"df-2e9d0364-8d2a-4208-b0f8-fcbf1e74b6ff\">\n",
              "  <button class=\"colab-df-quickchart\" onclick=\"quickchart('df-2e9d0364-8d2a-4208-b0f8-fcbf1e74b6ff')\"\n",
              "            title=\"Suggest charts\"\n",
              "            style=\"display:none;\">\n",
              "\n",
              "<svg xmlns=\"http://www.w3.org/2000/svg\" height=\"24px\"viewBox=\"0 0 24 24\"\n",
              "     width=\"24px\">\n",
              "    <g>\n",
              "        <path d=\"M19 3H5c-1.1 0-2 .9-2 2v14c0 1.1.9 2 2 2h14c1.1 0 2-.9 2-2V5c0-1.1-.9-2-2-2zM9 17H7v-7h2v7zm4 0h-2V7h2v10zm4 0h-2v-4h2v4z\"/>\n",
              "    </g>\n",
              "</svg>\n",
              "  </button>\n",
              "\n",
              "<style>\n",
              "  .colab-df-quickchart {\n",
              "      --bg-color: #E8F0FE;\n",
              "      --fill-color: #1967D2;\n",
              "      --hover-bg-color: #E2EBFA;\n",
              "      --hover-fill-color: #174EA6;\n",
              "      --disabled-fill-color: #AAA;\n",
              "      --disabled-bg-color: #DDD;\n",
              "  }\n",
              "\n",
              "  [theme=dark] .colab-df-quickchart {\n",
              "      --bg-color: #3B4455;\n",
              "      --fill-color: #D2E3FC;\n",
              "      --hover-bg-color: #434B5C;\n",
              "      --hover-fill-color: #FFFFFF;\n",
              "      --disabled-bg-color: #3B4455;\n",
              "      --disabled-fill-color: #666;\n",
              "  }\n",
              "\n",
              "  .colab-df-quickchart {\n",
              "    background-color: var(--bg-color);\n",
              "    border: none;\n",
              "    border-radius: 50%;\n",
              "    cursor: pointer;\n",
              "    display: none;\n",
              "    fill: var(--fill-color);\n",
              "    height: 32px;\n",
              "    padding: 0;\n",
              "    width: 32px;\n",
              "  }\n",
              "\n",
              "  .colab-df-quickchart:hover {\n",
              "    background-color: var(--hover-bg-color);\n",
              "    box-shadow: 0 1px 2px rgba(60, 64, 67, 0.3), 0 1px 3px 1px rgba(60, 64, 67, 0.15);\n",
              "    fill: var(--button-hover-fill-color);\n",
              "  }\n",
              "\n",
              "  .colab-df-quickchart-complete:disabled,\n",
              "  .colab-df-quickchart-complete:disabled:hover {\n",
              "    background-color: var(--disabled-bg-color);\n",
              "    fill: var(--disabled-fill-color);\n",
              "    box-shadow: none;\n",
              "  }\n",
              "\n",
              "  .colab-df-spinner {\n",
              "    border: 2px solid var(--fill-color);\n",
              "    border-color: transparent;\n",
              "    border-bottom-color: var(--fill-color);\n",
              "    animation:\n",
              "      spin 1s steps(1) infinite;\n",
              "  }\n",
              "\n",
              "  @keyframes spin {\n",
              "    0% {\n",
              "      border-color: transparent;\n",
              "      border-bottom-color: var(--fill-color);\n",
              "      border-left-color: var(--fill-color);\n",
              "    }\n",
              "    20% {\n",
              "      border-color: transparent;\n",
              "      border-left-color: var(--fill-color);\n",
              "      border-top-color: var(--fill-color);\n",
              "    }\n",
              "    30% {\n",
              "      border-color: transparent;\n",
              "      border-left-color: var(--fill-color);\n",
              "      border-top-color: var(--fill-color);\n",
              "      border-right-color: var(--fill-color);\n",
              "    }\n",
              "    40% {\n",
              "      border-color: transparent;\n",
              "      border-right-color: var(--fill-color);\n",
              "      border-top-color: var(--fill-color);\n",
              "    }\n",
              "    60% {\n",
              "      border-color: transparent;\n",
              "      border-right-color: var(--fill-color);\n",
              "    }\n",
              "    80% {\n",
              "      border-color: transparent;\n",
              "      border-right-color: var(--fill-color);\n",
              "      border-bottom-color: var(--fill-color);\n",
              "    }\n",
              "    90% {\n",
              "      border-color: transparent;\n",
              "      border-bottom-color: var(--fill-color);\n",
              "    }\n",
              "  }\n",
              "</style>\n",
              "\n",
              "  <script>\n",
              "    async function quickchart(key) {\n",
              "      const quickchartButtonEl =\n",
              "        document.querySelector('#' + key + ' button');\n",
              "      quickchartButtonEl.disabled = true;  // To prevent multiple clicks.\n",
              "      quickchartButtonEl.classList.add('colab-df-spinner');\n",
              "      try {\n",
              "        const charts = await google.colab.kernel.invokeFunction(\n",
              "            'suggestCharts', [key], {});\n",
              "      } catch (error) {\n",
              "        console.error('Error during call to suggestCharts:', error);\n",
              "      }\n",
              "      quickchartButtonEl.classList.remove('colab-df-spinner');\n",
              "      quickchartButtonEl.classList.add('colab-df-quickchart-complete');\n",
              "    }\n",
              "    (() => {\n",
              "      let quickchartButtonEl =\n",
              "        document.querySelector('#df-2e9d0364-8d2a-4208-b0f8-fcbf1e74b6ff button');\n",
              "      quickchartButtonEl.style.display =\n",
              "        google.colab.kernel.accessAllowed ? 'block' : 'none';\n",
              "    })();\n",
              "  </script>\n",
              "</div>\n",
              "    </div>\n",
              "  </div>\n"
            ],
            "application/vnd.google.colaboratory.intrinsic+json": {
              "type": "dataframe",
              "variable_name": "train",
              "summary": "{\n  \"name\": \"train\",\n  \"rows\": 79,\n  \"fields\": [\n    {\n      \"column\": \"target\",\n      \"properties\": {\n        \"dtype\": \"number\",\n        \"std\": 0,\n        \"min\": 0,\n        \"max\": 2,\n        \"num_unique_values\": 3,\n        \"samples\": [\n          0,\n          1,\n          2\n        ],\n        \"semantic_type\": \"\",\n        \"description\": \"\"\n      }\n    },\n    {\n      \"column\": \"text\",\n      \"properties\": {\n        \"dtype\": \"string\",\n        \"num_unique_values\": 70,\n        \"samples\": [\n          \"payment debit card show payment failur error messag shown `` card recognis ``\",\n          \"appli credit card last month get one till although fullfil criteria requir appli credit card\",\n          \"payment gateway failur money debit\"\n        ],\n        \"semantic_type\": \"\",\n        \"description\": \"\"\n      }\n    }\n  ]\n}"
            }
          },
          "metadata": {},
          "execution_count": 26
        }
      ]
    },
    {
      "cell_type": "markdown",
      "metadata": {
        "id": "-wp1q6YAGneR"
      },
      "source": [
        "Tokenize"
      ]
    },
    {
      "cell_type": "code",
      "metadata": {
        "id": "HjiTh4B-yyKD"
      },
      "source": [
        "# We use Tokenizer from tensorflow.keras.preprocessing.text library\n",
        "num_words=10000\n",
        "text_tokenizer= Tokenizer(num_words)\n",
        "text_tokenizer.fit_on_texts(train.text) #fit_on_texts - creates the vocabulary index based on word frequency.\n",
        "\n",
        "tokenized_train_data= text_tokenizer.texts_to_sequences(train.text) #Converting texts to sequences\n",
        "tokenized_test_data= text_tokenizer.texts_to_sequences(test.text)"
      ],
      "execution_count": null,
      "outputs": []
    },
    {
      "cell_type": "code",
      "source": [
        "tokenized_train_data"
      ],
      "metadata": {
        "colab": {
          "base_uri": "https://localhost:8080/"
        },
        "id": "biL91Q07Gc4N",
        "outputId": "99fcff20-f28d-4d86-de82-778abd715630"
      },
      "execution_count": null,
      "outputs": [
        {
          "output_type": "execute_result",
          "data": {
            "text/plain": [
              "[[8, 15, 2, 12, 18, 24, 39, 9, 68, 131, 132, 52, 8, 15, 2],\n",
              " [53, 31, 1, 11, 40, 54, 41, 133, 42, 69, 70],\n",
              " [8, 4, 15, 2, 53, 1, 11, 12, 18, 24, 9],\n",
              " [9, 24, 4, 15, 2, 8, 12, 18, 11],\n",
              " [16, 10, 17, 25, 7, 11, 1, 12, 18, 9, 55],\n",
              " [14, 56, 19, 7, 134, 17, 1, 14, 87, 31, 7],\n",
              " [88, 4, 15, 2, 71, 14, 89, 4, 15, 2, 72, 29, 90],\n",
              " [73, 89, 4, 15, 2, 88, 4, 15, 2, 71, 72, 29, 90],\n",
              " [16, 10, 17, 19, 7, 1, 12, 57, 9, 24, 29, 74],\n",
              " [16, 10, 17, 19, 7, 1, 12, 18, 24, 135, 72, 1, 75, 7],\n",
              " [3, 30, 43, 91, 92, 32],\n",
              " [3, 39, 32, 43, 93, 94, 32],\n",
              " [95, 33, 1, 26, 96, 20, 21, 3],\n",
              " [136, 20, 1, 137, 27, 138, 97, 76],\n",
              " [6, 77, 1],\n",
              " [139, 77, 6, 1, 44, 21, 3, 5],\n",
              " [11, 1, 30, 140, 77, 76, 5],\n",
              " [141, 6, 34, 142, 6, 143, 78, 76, 144, 1],\n",
              " [145, 74, 3, 20],\n",
              " [6, 146, 98, 147, 148, 99, 3, 20],\n",
              " [8, 31, 1, 11, 40, 54, 41, 42, 79, 69, 70],\n",
              " [35, 22, 5, 4, 15, 2, 45, 58, 59, 2, 100],\n",
              " [5, 4, 2, 46, 5, 20, 45, 58, 59, 2, 100],\n",
              " [8, 31, 1, 11, 40, 54, 41, 149, 150, 69, 70, 54],\n",
              " [21, 151, 5, 3, 44],\n",
              " [14,\n",
              "  8,\n",
              "  101,\n",
              "  102,\n",
              "  25,\n",
              "  7,\n",
              "  17,\n",
              "  1,\n",
              "  13,\n",
              "  8,\n",
              "  13,\n",
              "  25,\n",
              "  7,\n",
              "  13,\n",
              "  103,\n",
              "  27,\n",
              "  36,\n",
              "  39,\n",
              "  47,\n",
              "  13,\n",
              "  25,\n",
              "  7,\n",
              "  104,\n",
              "  10],\n",
              " [16, 10, 17, 31, 19, 7, 1, 105, 17, 19, 7, 80, 9, 60, 26, 106, 107, 78],\n",
              " [16, 10, 61, 108, 3, 109, 27, 36, 47, 62, 2, 10, 63, 61, 9, 73, 110, 111],\n",
              " [14, 37, 6, 1, 64, 1, 65, 4, 2, 35, 48, 37, 46, 45],\n",
              " [14, 37, 6, 1, 64, 1, 65, 4, 2, 112, 113, 11, 75, 19, 7, 22, 3],\n",
              " [49, 3, 4, 2, 81, 114, 38, 115, 3, 82, 6, 23, 1],\n",
              " [3, 30, 43, 91, 92, 32],\n",
              " [3, 39, 32, 43, 93, 94, 32],\n",
              " [95, 33, 1, 26, 96, 20, 21, 3],\n",
              " [152, 153, 30, 1, 3, 44],\n",
              " [154, 5, 155, 97, 26, 156, 50, 157],\n",
              " [14, 87, 62, 2, 7, 1, 22, 158, 3, 28],\n",
              " [22, 5, 4, 2, 38, 116, 5, 30, 46, 20, 5, 33, 23, 1],\n",
              " [5, 48, 33, 23, 1, 22, 5, 38, 116],\n",
              " [16, 10, 55, 66, 67, 1, 60, 9, 27, 36, 159, 117, 10],\n",
              " [8, 53, 83, 1, 160, 12, 18, 40, 1, 67, 41, 66, 1],\n",
              " [8, 53, 66, 1, 12, 18, 40, 1, 67, 41, 83, 1, 79],\n",
              " [16, 10, 118, 1, 11, 12, 57, 27, 161, 162, 119, 118, 1, 163, 60, 9],\n",
              " [8, 50, 11, 120, 1, 12, 57, 9, 24, 29, 74, 164, 52, 29, 10, 63],\n",
              " [1, 46, 6, 4, 165, 51],\n",
              " [5, 166, 121, 122, 123, 33, 1],\n",
              " [35, 56, 4, 2, 167, 168, 28, 34, 169, 68, 124, 13, 29, 52, 121],\n",
              " [84, 6, 34, 28, 4, 3, 44, 6, 23, 1, 1],\n",
              " [35, 22, 21, 3, 4, 2, 68, 124, 29, 170],\n",
              " [8, 55, 62, 2, 25, 2, 7, 1, 12, 57, 55, 9, 125, 27, 36, 47, 52, 117, 10, 63],\n",
              " [8, 13, 42, 1, 12, 18, 9, 125, 13, 26, 80, 171, 28, 11, 67],\n",
              " [172, 173, 5, 174, 20],\n",
              " [5, 175, 20, 6, 4],\n",
              " [6, 15],\n",
              " [5, 176, 26, 177, 178, 58, 122, 123, 33],\n",
              " [3, 43],\n",
              " [44, 34, 3],\n",
              " [34, 1, 24, 4, 179, 180, 181, 182],\n",
              " [5, 3, 183, 184, 5, 49, 185],\n",
              " [126, 50, 11, 85, 14, 86, 35, 86, 85],\n",
              " [126, 50, 11, 127, 42, 14, 86, 186],\n",
              " [22, 3, 4, 2, 84, 6, 34, 3, 48, 6, 23, 1],\n",
              " [8, 50, 11, 120, 1, 187, 99, 188, 24, 127, 42, 85, 9],\n",
              " [8, 56, 66, 1, 83, 1, 79, 12, 18, 9, 56],\n",
              " [16, 10, 13, 189, 190, 1, 13, 9, 71],\n",
              " [28, 4, 2, 84, 6, 1, 3, 48, 26, 119, 6, 23, 1],\n",
              " [28, 4, 2, 22, 5, 21, 51, 6, 23, 1, 5, 30, 59, 128],\n",
              " [49, 3, 21, 51, 81, 191, 5, 30, 82, 6, 23, 1],\n",
              " [128, 4, 2, 5],\n",
              " [5, 192, 11, 45, 58, 21, 5],\n",
              " [2, 5, 193, 194],\n",
              " [14,\n",
              "  8,\n",
              "  101,\n",
              "  102,\n",
              "  25,\n",
              "  7,\n",
              "  17,\n",
              "  1,\n",
              "  13,\n",
              "  8,\n",
              "  13,\n",
              "  25,\n",
              "  7,\n",
              "  13,\n",
              "  103,\n",
              "  27,\n",
              "  36,\n",
              "  39,\n",
              "  47,\n",
              "  13,\n",
              "  25,\n",
              "  7,\n",
              "  104,\n",
              "  10],\n",
              " [16, 10, 17, 31, 19, 7, 1, 105, 17, 19, 7, 80, 9, 60, 26, 106, 107, 78],\n",
              " [16, 10, 61, 108, 3, 109, 27, 36, 47, 62, 2, 10, 63, 61, 9, 73, 110, 111],\n",
              " [14, 37, 6, 1, 64, 1, 65, 4, 2, 35, 48, 37, 46, 45],\n",
              " [14, 37, 6, 1, 64, 1, 65, 4, 2, 112, 113, 11, 75, 19, 7, 22, 3],\n",
              " [49, 3, 4, 2, 81, 114, 38, 115, 3, 82, 6, 23, 1],\n",
              " [49, 3, 195, 28, 4, 2, 196, 129, 129, 197, 98, 6, 198, 1],\n",
              " [8, 130, 21, 38, 51, 28, 15, 2, 130, 199, 1, 59, 38, 51]]"
            ]
          },
          "metadata": {},
          "execution_count": 28
        }
      ]
    },
    {
      "cell_type": "markdown",
      "metadata": {
        "id": "AwzRRO70Hk3S"
      },
      "source": [
        "Then, we pad the sequences"
      ]
    },
    {
      "cell_type": "code",
      "metadata": {
        "id": "_Z_dRUZay3KD"
      },
      "source": [
        "#We use pad_sequences from tensorflow.keras.preprocessing.sequence library\n",
        "train_data= pad_sequences(tokenized_train_data, maxlen= 20, padding= \"pre\")\n",
        "test_data= pad_sequences(tokenized_test_data, maxlen= 20, padding= \"pre\")"
      ],
      "execution_count": null,
      "outputs": []
    },
    {
      "cell_type": "code",
      "source": [
        "train_data"
      ],
      "metadata": {
        "colab": {
          "base_uri": "https://localhost:8080/"
        },
        "id": "Aulv_Y7jGiHd",
        "outputId": "e60a9cf5-bc61-4377-a258-0a8d22ac142c"
      },
      "execution_count": null,
      "outputs": [
        {
          "output_type": "execute_result",
          "data": {
            "text/plain": [
              "array([[  0,   0,   0, ...,   8,  15,   2],\n",
              "       [  0,   0,   0, ...,  42,  69,  70],\n",
              "       [  0,   0,   0, ...,  18,  24,   9],\n",
              "       ...,\n",
              "       [  0,   0,   0, ...,   6,  23,   1],\n",
              "       [  0,   0,   0, ...,   6, 198,   1],\n",
              "       [  0,   0,   0, ...,  59,  38,  51]], dtype=int32)"
            ]
          },
          "metadata": {},
          "execution_count": 30
        }
      ]
    },
    {
      "cell_type": "code",
      "source": [
        "train_data.shape"
      ],
      "metadata": {
        "colab": {
          "base_uri": "https://localhost:8080/"
        },
        "id": "NsBSTWhGGrhI",
        "outputId": "14aef95a-376d-4407-f077-3f2d1b79faa5"
      },
      "execution_count": null,
      "outputs": [
        {
          "output_type": "execute_result",
          "data": {
            "text/plain": [
              "(79, 20)"
            ]
          },
          "metadata": {},
          "execution_count": 31
        }
      ]
    },
    {
      "cell_type": "markdown",
      "metadata": {
        "id": "1HT2iJpbHivt"
      },
      "source": [
        "Let's build a 3 dim array. The dimensions are samples, steps and unique words."
      ]
    },
    {
      "cell_type": "code",
      "metadata": {
        "id": "OwM8Y2uEy3Vx"
      },
      "source": [
        "def transform_matrix(data, tokenizer):\n",
        "    output_shape_mat= [data.shape[0],\n",
        "                  data.shape[1],\n",
        "                  tokenizer.word_index.keys().__len__()] #Three dimensional matrix with samples, steps and number of uniques words as each dimension.\n",
        "    results_data= np.zeros(output_shape_mat) #creates new array with given dimensions.\n",
        "\n",
        "    for i in range(data.shape[0]):\n",
        "        for j in range(data.shape[1]):\n",
        "            results_data[i, j, data[i,j]-1]= 1 # In this for loop, we are looping over the shape of the training & test data and assigning the cell of above created zero matrix to 1. We are performing encoding on the unique words to obtain the transformation matrix\n",
        "    return results_data\n",
        "\n",
        "trans_matrix_train= transform_matrix(train_data, text_tokenizer) #This will be the matrix on which the lstm model is applied\n",
        "trans_matrix_test= transform_matrix(test_data, text_tokenizer) #This will be the matrix on which the model is tested"
      ],
      "execution_count": null,
      "outputs": []
    },
    {
      "cell_type": "code",
      "source": [
        "trans_matrix_train.shape"
      ],
      "metadata": {
        "colab": {
          "base_uri": "https://localhost:8080/"
        },
        "id": "GtBkrVafGyqz",
        "outputId": "7b6de4cb-aa74-4979-ec22-3bd743318be4"
      },
      "execution_count": null,
      "outputs": [
        {
          "output_type": "execute_result",
          "data": {
            "text/plain": [
              "(79, 20, 199)"
            ]
          },
          "metadata": {},
          "execution_count": 33
        }
      ]
    },
    {
      "cell_type": "code",
      "source": [
        "trans_matrix_test.shape"
      ],
      "metadata": {
        "colab": {
          "base_uri": "https://localhost:8080/"
        },
        "id": "OvZCLxhMHEpd",
        "outputId": "430d4c85-1e8f-4e2e-9e9b-34e361102d6f"
      },
      "execution_count": null,
      "outputs": [
        {
          "output_type": "execute_result",
          "data": {
            "text/plain": [
              "(21, 20, 199)"
            ]
          },
          "metadata": {},
          "execution_count": 34
        }
      ]
    },
    {
      "cell_type": "markdown",
      "metadata": {
        "id": "uSG06CjZMFdw"
      },
      "source": [
        "### 4. Build LSTM Model\n",
        "\n",
        "Build a class lstm_model_class that has three methods(methods are similar to functions) in a class, they are:\n",
        "\n",
        "\n",
        "\n",
        "1.   Build a lstm model\n",
        "2.   Train the created lstm model on the train data\n",
        "3.   Predict the output on the train data\n",
        "\n",
        "Note: Building a Class with 3 methods helps in tying all these three functions to the same object at the same instance.\n",
        "\n",
        "Process of Building a LSTM Model:\n",
        "\n",
        "\n",
        "\n",
        "1.   Build an embedded layer with dimensions as number of steps and input dimensions.\n",
        "2.   Build an LSTM layer with number of steps equal to memory units.  \n",
        "3.   Then, build a dense layer which is fully connected layer that represents a matrix vector multiplication.\n",
        "4.   Apply the relu function after normalization and scaling of the activations. This is the standard activation function used.\n",
        "5.   Finally, build the output layer.\n",
        "\n",
        "Note:\n",
        "1. activation function for multi-class classification problem - softmax\n",
        "2. loss function is categorical cross entropy.\n",
        "3. performace metric - Area under the curve(AUC)\n",
        "4. optimizer would be the Adam optimizer.\n",
        "\n",
        "\n",
        "\n"
      ]
    },
    {
      "cell_type": "code",
      "metadata": {
        "id": "_qfSIpcHy3a2"
      },
      "source": [
        "class lstm_model_class(object):\n",
        "    def build_lstm_model(self,input_dimensions, op_shape, num_steps, dropout_rate, kernel_reg, bias_reg):\n",
        "      ip_layer= Input(shape= (num_steps, input_dimensions)) #Define embedded layer with shape as number of steps and input dimensions. Note that both these are input variables to the model.\n",
        "\n",
        "      lstm_model= LSTM(units= num_steps)(ip_layer) #Make the LSTM layer with number of steps as memory units\n",
        "      dense_layer_1= Dense(op_shape, kernel_initializer= he_uniform(), #he_uniform draws samples in uniform distribution with -inf to +inf as range.\n",
        "                   bias_initializer= \"zeros\",\n",
        "                   kernel_regularizer= l2(l= kernel_reg),\n",
        "                   bias_regularizer= l2(l= bias_reg))(lstm_model) # Create the  Dense layer which is the regular deeply connected layer\n",
        "      int_layer= BatchNormalization()(dense_layer_1) #Normalize and scale activations of the dense layer with BatchNormalization function\n",
        "      int_layer= relu(int_layer) #This applies the rectified linear unit activation function\n",
        "      int_layer= Dropout(rate= dropout_rate)(int_layer) #Dropout is used to define Dropout layer that sets input units to 0 with a frequency. Here it is dropout_rate\n",
        "      output_1= Dense(op_shape, kernel_initializer= glorot_uniform(), #glorot_uniform draws samples in uniform distribution with stddev = sqrt(2 / (fan_in + fan_out)) fan_in is num of units in weight tensor and fan_out is num of output units\n",
        "             bias_initializer= \"zeros\",\n",
        "             kernel_regularizer= l2(l= kernel_reg),\n",
        "             bias_regularizer= l2(l= bias_reg))(dense_layer_1) # Create another dense layer which is the output of the model.\n",
        "      output_1= BatchNormalization()(output_1) #Normalize and scale activations of the dense layer with BatchNormalization function\n",
        "      final_output= softmax(output_1, axis= 1)\n",
        "\n",
        "      loss_func= cce() # Since it is a multi-class classification problem, categorical crossentropy(cce) is used as the loss function\n",
        "      perf_metrics= AUC() #our performance metric will be area under the curve\n",
        "      optimizer= Adam() #we shall use Adam optimizer as our optimizer\n",
        "      self.final_model= Model(inputs= [ip_layer], outputs= [final_output]) #Build the model with input and output layers\n",
        "      self.final_model.compile(optimizer= optimizer, loss= loss_func, metrics= [perf_metrics]) #Compiling the keras model\n",
        "\n",
        "    def train_lstm_model(self,x, y, valid_split, ep):\n",
        "      self.final_model.fit(x, y, validation_split= valid_split, epochs= ep) #Create the train model\n",
        "\n",
        "\n",
        "    def predict_lstm_model(self,x):\n",
        "      return self.final_model.predict(x)    #Create the predict model\n"
      ],
      "execution_count": null,
      "outputs": []
    },
    {
      "cell_type": "markdown",
      "metadata": {
        "id": "XRmkHRRUU5Uv"
      },
      "source": [
        "Build the model on the necessary inputs.\n",
        "We define the number of steps as the , output shape and input dimensio appropriately."
      ]
    },
    {
      "cell_type": "code",
      "metadata": {
        "id": "4v41QY3ly3Zb"
      },
      "source": [
        "steps= trans_matrix_train.shape[1] #Define the number of steps is usually the number of steps in the train data.\n",
        "input_dim= trans_matrix_train.shape[2] #Input dimension. Number of unique words in the train data\n",
        "output_shape= train_target_encoded.shape[1] #Output shape. Usually the same number as the number of classes in the target variable. Here we have 8.\n",
        "final_model= lstm_model_class()\n",
        "final_model.build_lstm_model(input_dimensions= input_dim,\n",
        "                  op_shape= output_shape,\n",
        "                  num_steps= steps,\n",
        "                  dropout_rate= 0.5, # Meaning 1 in 2 inputs will be randomly executed.\n",
        "                  bias_reg= 0.3, # Reduce the bias in the model\n",
        "                  kernel_reg= 0.3) #Reduce the weights excluding bias.\n",
        "\n"
      ],
      "execution_count": null,
      "outputs": []
    },
    {
      "cell_type": "markdown",
      "metadata": {
        "id": "w0HQ71DqWA_p"
      },
      "source": [
        "### 5. Train & Evaluate the model\n",
        "In our last step, we will train and evaluate the model and check the performance metrics."
      ]
    },
    {
      "cell_type": "code",
      "metadata": {
        "id": "TKS5QDZcy3UH",
        "outputId": "bb56c4d5-4943-4329-9b73-871d9211e41d",
        "colab": {
          "base_uri": "https://localhost:8080/"
        }
      },
      "source": [
        "final_model.train_lstm_model(trans_matrix_train, train_target_encoded,\n",
        "           0.2, 60) #Model takes train data, train target variable, validation split(here it is 80:20) and number of epochs."
      ],
      "execution_count": null,
      "outputs": [
        {
          "output_type": "stream",
          "name": "stdout",
          "text": [
            "Epoch 1/60\n",
            "2/2 [==============================] - 6s 646ms/step - loss: 4.2994 - auc: 0.3750 - val_loss: 3.8266 - val_auc: 0.2412\n",
            "Epoch 2/60\n",
            "2/2 [==============================] - 0s 58ms/step - loss: 4.0997 - auc: 0.4609 - val_loss: 3.7970 - val_auc: 0.2871\n",
            "Epoch 3/60\n",
            "2/2 [==============================] - 0s 56ms/step - loss: 3.9239 - auc: 0.5410 - val_loss: 3.7665 - val_auc: 0.3662\n",
            "Epoch 4/60\n",
            "2/2 [==============================] - 0s 41ms/step - loss: 3.7191 - auc: 0.6510 - val_loss: 3.7361 - val_auc: 0.4238\n",
            "Epoch 5/60\n",
            "2/2 [==============================] - 0s 54ms/step - loss: 3.5520 - auc: 0.7542 - val_loss: 3.7065 - val_auc: 0.4766\n",
            "Epoch 6/60\n",
            "2/2 [==============================] - 0s 54ms/step - loss: 3.4217 - auc: 0.8216 - val_loss: 3.6774 - val_auc: 0.5361\n",
            "Epoch 7/60\n",
            "2/2 [==============================] - 0s 55ms/step - loss: 3.3043 - auc: 0.8811 - val_loss: 3.6483 - val_auc: 0.5908\n",
            "Epoch 8/60\n",
            "2/2 [==============================] - 0s 44ms/step - loss: 3.2144 - auc: 0.9206 - val_loss: 3.6194 - val_auc: 0.6348\n",
            "Epoch 9/60\n",
            "2/2 [==============================] - 0s 52ms/step - loss: 3.1495 - auc: 0.9397 - val_loss: 3.5911 - val_auc: 0.6641\n",
            "Epoch 10/60\n",
            "2/2 [==============================] - 0s 41ms/step - loss: 3.0863 - auc: 0.9596 - val_loss: 3.5632 - val_auc: 0.6904\n",
            "Epoch 11/60\n",
            "2/2 [==============================] - 0s 39ms/step - loss: 3.0232 - auc: 0.9767 - val_loss: 3.5358 - val_auc: 0.7109\n",
            "Epoch 12/60\n",
            "2/2 [==============================] - 0s 52ms/step - loss: 2.9758 - auc: 0.9839 - val_loss: 3.5086 - val_auc: 0.7578\n",
            "Epoch 13/60\n",
            "2/2 [==============================] - 0s 55ms/step - loss: 2.9204 - auc: 0.9906 - val_loss: 3.4817 - val_auc: 0.7861\n",
            "Epoch 14/60\n",
            "2/2 [==============================] - 0s 39ms/step - loss: 2.8912 - auc: 0.9909 - val_loss: 3.4555 - val_auc: 0.8271\n",
            "Epoch 15/60\n",
            "2/2 [==============================] - 0s 40ms/step - loss: 2.8740 - auc: 0.9853 - val_loss: 3.4297 - val_auc: 0.8545\n",
            "Epoch 16/60\n",
            "2/2 [==============================] - 0s 53ms/step - loss: 2.8198 - auc: 0.9957 - val_loss: 3.4041 - val_auc: 0.8926\n",
            "Epoch 17/60\n",
            "2/2 [==============================] - 0s 43ms/step - loss: 2.7760 - auc: 0.9953 - val_loss: 3.3787 - val_auc: 0.9092\n",
            "Epoch 18/60\n",
            "2/2 [==============================] - 0s 65ms/step - loss: 2.7330 - auc: 0.9979 - val_loss: 3.3536 - val_auc: 0.9248\n",
            "Epoch 19/60\n",
            "2/2 [==============================] - 0s 58ms/step - loss: 2.7001 - auc: 0.9982 - val_loss: 3.3289 - val_auc: 0.9395\n",
            "Epoch 20/60\n",
            "2/2 [==============================] - 0s 54ms/step - loss: 2.6627 - auc: 0.9989 - val_loss: 3.3044 - val_auc: 0.9404\n",
            "Epoch 21/60\n",
            "2/2 [==============================] - 0s 54ms/step - loss: 2.6375 - auc: 0.9988 - val_loss: 3.2801 - val_auc: 0.9521\n",
            "Epoch 22/60\n",
            "2/2 [==============================] - 0s 55ms/step - loss: 2.6062 - auc: 0.9994 - val_loss: 3.2560 - val_auc: 0.9521\n",
            "Epoch 23/60\n",
            "2/2 [==============================] - 0s 45ms/step - loss: 2.5773 - auc: 0.9995 - val_loss: 3.2322 - val_auc: 0.9521\n",
            "Epoch 24/60\n",
            "2/2 [==============================] - 0s 56ms/step - loss: 2.5497 - auc: 0.9996 - val_loss: 3.2087 - val_auc: 0.9541\n",
            "Epoch 25/60\n",
            "2/2 [==============================] - 0s 53ms/step - loss: 2.5181 - auc: 0.9997 - val_loss: 3.1854 - val_auc: 0.9570\n",
            "Epoch 26/60\n",
            "2/2 [==============================] - 0s 40ms/step - loss: 2.4878 - auc: 0.9996 - val_loss: 3.1622 - val_auc: 0.9609\n",
            "Epoch 27/60\n",
            "2/2 [==============================] - 0s 58ms/step - loss: 2.4612 - auc: 0.9997 - val_loss: 3.1393 - val_auc: 0.9609\n",
            "Epoch 28/60\n",
            "2/2 [==============================] - 0s 58ms/step - loss: 2.4341 - auc: 1.0000 - val_loss: 3.1166 - val_auc: 0.9668\n",
            "Epoch 29/60\n",
            "2/2 [==============================] - 0s 42ms/step - loss: 2.4200 - auc: 0.9996 - val_loss: 3.0939 - val_auc: 0.9678\n",
            "Epoch 30/60\n",
            "2/2 [==============================] - 0s 54ms/step - loss: 2.4027 - auc: 0.9997 - val_loss: 3.0714 - val_auc: 0.9668\n",
            "Epoch 31/60\n",
            "2/2 [==============================] - 0s 40ms/step - loss: 2.3664 - auc: 0.9997 - val_loss: 3.0490 - val_auc: 0.9688\n",
            "Epoch 32/60\n",
            "2/2 [==============================] - 0s 55ms/step - loss: 2.3395 - auc: 1.0000 - val_loss: 3.0268 - val_auc: 0.9609\n",
            "Epoch 33/60\n",
            "2/2 [==============================] - 0s 53ms/step - loss: 2.3085 - auc: 0.9999 - val_loss: 3.0049 - val_auc: 0.9600\n",
            "Epoch 34/60\n",
            "2/2 [==============================] - 0s 55ms/step - loss: 2.2842 - auc: 0.9999 - val_loss: 2.9831 - val_auc: 0.9580\n",
            "Epoch 35/60\n",
            "2/2 [==============================] - 0s 54ms/step - loss: 2.2651 - auc: 0.9999 - val_loss: 2.9615 - val_auc: 0.9541\n",
            "Epoch 36/60\n",
            "2/2 [==============================] - 0s 59ms/step - loss: 2.2667 - auc: 0.9996 - val_loss: 2.9400 - val_auc: 0.9541\n",
            "Epoch 37/60\n",
            "2/2 [==============================] - 0s 42ms/step - loss: 2.2089 - auc: 1.0000 - val_loss: 2.9186 - val_auc: 0.9521\n",
            "Epoch 38/60\n",
            "2/2 [==============================] - 0s 56ms/step - loss: 2.1985 - auc: 0.9999 - val_loss: 2.8974 - val_auc: 0.9473\n",
            "Epoch 39/60\n",
            "2/2 [==============================] - 0s 41ms/step - loss: 2.1875 - auc: 1.0000 - val_loss: 2.8763 - val_auc: 0.9453\n",
            "Epoch 40/60\n",
            "2/2 [==============================] - 0s 40ms/step - loss: 2.1446 - auc: 1.0000 - val_loss: 2.8553 - val_auc: 0.9443\n",
            "Epoch 41/60\n",
            "2/2 [==============================] - 0s 41ms/step - loss: 2.1455 - auc: 1.0000 - val_loss: 2.8344 - val_auc: 0.9434\n",
            "Epoch 42/60\n",
            "2/2 [==============================] - 0s 40ms/step - loss: 2.1149 - auc: 1.0000 - val_loss: 2.8140 - val_auc: 0.9434\n",
            "Epoch 43/60\n",
            "2/2 [==============================] - 0s 54ms/step - loss: 2.0830 - auc: 1.0000 - val_loss: 2.7934 - val_auc: 0.9424\n",
            "Epoch 44/60\n",
            "2/2 [==============================] - 0s 42ms/step - loss: 2.0598 - auc: 1.0000 - val_loss: 2.7727 - val_auc: 0.9414\n",
            "Epoch 45/60\n",
            "2/2 [==============================] - 0s 64ms/step - loss: 2.0539 - auc: 1.0000 - val_loss: 2.7519 - val_auc: 0.9414\n",
            "Epoch 46/60\n",
            "2/2 [==============================] - 0s 70ms/step - loss: 2.0336 - auc: 1.0000 - val_loss: 2.7310 - val_auc: 0.9434\n",
            "Epoch 47/60\n",
            "2/2 [==============================] - 0s 67ms/step - loss: 2.0009 - auc: 1.0000 - val_loss: 2.7103 - val_auc: 0.9424\n",
            "Epoch 48/60\n",
            "2/2 [==============================] - 0s 84ms/step - loss: 1.9920 - auc: 1.0000 - val_loss: 2.6894 - val_auc: 0.9424\n",
            "Epoch 49/60\n",
            "2/2 [==============================] - 0s 69ms/step - loss: 1.9727 - auc: 1.0000 - val_loss: 2.6687 - val_auc: 0.9443\n",
            "Epoch 50/60\n",
            "2/2 [==============================] - 0s 65ms/step - loss: 1.9445 - auc: 1.0000 - val_loss: 2.6478 - val_auc: 0.9443\n",
            "Epoch 51/60\n",
            "2/2 [==============================] - 0s 56ms/step - loss: 1.9365 - auc: 1.0000 - val_loss: 2.6271 - val_auc: 0.9453\n",
            "Epoch 52/60\n",
            "2/2 [==============================] - 0s 68ms/step - loss: 1.9106 - auc: 1.0000 - val_loss: 2.6065 - val_auc: 0.9453\n",
            "Epoch 53/60\n",
            "2/2 [==============================] - 0s 69ms/step - loss: 1.8940 - auc: 1.0000 - val_loss: 2.5857 - val_auc: 0.9453\n",
            "Epoch 54/60\n",
            "2/2 [==============================] - 0s 57ms/step - loss: 1.8876 - auc: 1.0000 - val_loss: 2.5652 - val_auc: 0.9453\n",
            "Epoch 55/60\n",
            "2/2 [==============================] - 0s 69ms/step - loss: 1.8617 - auc: 1.0000 - val_loss: 2.5452 - val_auc: 0.9453\n",
            "Epoch 56/60\n",
            "2/2 [==============================] - 0s 63ms/step - loss: 1.8374 - auc: 1.0000 - val_loss: 2.5251 - val_auc: 0.9453\n",
            "Epoch 57/60\n",
            "2/2 [==============================] - 0s 68ms/step - loss: 1.8438 - auc: 1.0000 - val_loss: 2.5049 - val_auc: 0.9463\n",
            "Epoch 58/60\n",
            "2/2 [==============================] - 0s 69ms/step - loss: 1.8127 - auc: 1.0000 - val_loss: 2.4849 - val_auc: 0.9463\n",
            "Epoch 59/60\n",
            "2/2 [==============================] - 0s 66ms/step - loss: 1.7859 - auc: 1.0000 - val_loss: 2.4656 - val_auc: 0.9463\n",
            "Epoch 60/60\n",
            "2/2 [==============================] - 0s 82ms/step - loss: 1.7706 - auc: 1.0000 - val_loss: 2.4464 - val_auc: 0.9463\n"
          ]
        }
      ]
    },
    {
      "cell_type": "code",
      "metadata": {
        "id": "4BvoHJ2z0ZoJ",
        "outputId": "e22da55c-4d80-40bd-e8de-741ed5981dc9",
        "colab": {
          "base_uri": "https://localhost:8080/"
        }
      },
      "source": [
        "pred_train= encode_target.inverse_transform(final_model.predict_lstm_model(trans_matrix_train)) #Predict on the train matrix and look at the performance\n",
        "print(classification_report(train.target, pred_train)) #Print the classification report"
      ],
      "execution_count": null,
      "outputs": [
        {
          "output_type": "stream",
          "name": "stdout",
          "text": [
            "3/3 [==============================] - 0s 5ms/step\n",
            "              precision    recall  f1-score   support\n",
            "\n",
            "           0       0.96      1.00      0.98        24\n",
            "           1       1.00      0.88      0.94        26\n",
            "           2       0.94      1.00      0.97        29\n",
            "\n",
            "    accuracy                           0.96        79\n",
            "   macro avg       0.97      0.96      0.96        79\n",
            "weighted avg       0.96      0.96      0.96        79\n",
            "\n"
          ]
        }
      ]
    },
    {
      "cell_type": "markdown",
      "metadata": {
        "id": "nueVLp5cYAOa"
      },
      "source": [
        "F1 and weighted avg are excellent. We can now move to implement this model on test data and see how it is performing."
      ]
    },
    {
      "cell_type": "code",
      "metadata": {
        "id": "pynraJ0I0ZwG",
        "outputId": "4f1565ee-88fb-4772-de81-be01883d3cf5",
        "colab": {
          "base_uri": "https://localhost:8080/"
        }
      },
      "source": [
        "pred_test= encode_target.inverse_transform(final_model.predict_lstm_model(trans_matrix_test)) #Predict on the test data\n",
        "print(classification_report(test.target, pred_test)) #Print the classification report"
      ],
      "execution_count": null,
      "outputs": [
        {
          "output_type": "stream",
          "name": "stdout",
          "text": [
            "1/1 [==============================] - 0s 32ms/step\n",
            "              precision    recall  f1-score   support\n",
            "\n",
            "           0       0.88      0.78      0.82         9\n",
            "           1       1.00      0.40      0.57         5\n",
            "           2       0.64      1.00      0.78         7\n",
            "\n",
            "    accuracy                           0.76        21\n",
            "   macro avg       0.84      0.73      0.72        21\n",
            "weighted avg       0.83      0.76      0.75        21\n",
            "\n"
          ]
        }
      ]
    },
    {
      "cell_type": "markdown",
      "metadata": {
        "id": "jczYwlA88qF3"
      },
      "source": [
        "F1 and weighted avg are excellent. We can settle with this model."
      ]
    },
    {
      "cell_type": "code",
      "source": [],
      "metadata": {
        "id": "f1kNrDO0vZcr"
      },
      "execution_count": null,
      "outputs": []
    }
  ]
}